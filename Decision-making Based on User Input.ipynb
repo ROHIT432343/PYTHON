{
 "cells": [
  {
   "cell_type": "markdown",
   "id": "84e3f522",
   "metadata": {},
   "source": [
    "# task 1"
   ]
  },
  {
   "cell_type": "code",
   "execution_count": null,
   "id": "1f691e05",
   "metadata": {},
   "outputs": [],
   "source": [
    "'C'= \"python\"\n",
    "'B'= \"SQL\"\n",
    "'A'= \"EXCEL\"\n"
   ]
  },
  {
   "cell_type": "code",
   "execution_count": 1,
   "id": "d9fdbff1",
   "metadata": {},
   "outputs": [
    {
     "name": "stdout",
     "output_type": "stream",
     "text": [
      "Enter a character: A\n",
      "Python\n"
     ]
    }
   ],
   "source": [
    "# Accept a character from the user\n",
    "user_input = input(\"Enter a character: \")\n",
    "\n",
    "# Check the user's input and display the corresponding message\n",
    "if user_input == 'A':\n",
    "    print(\"Python\")\n",
    "elif user_input == 'B':\n",
    "    print(\"MYSQL\")\n",
    "elif user_input == 'C':\n",
    "    print(\"EXCEL\")\n",
    "else:\n",
    "    print(\"Holiday\")"
   ]
  },
  {
   "cell_type": "markdown",
   "id": "040c663f",
   "metadata": {},
   "source": [
    "# task 2"
   ]
  },
  {
   "cell_type": "code",
   "execution_count": 2,
   "id": "6c6872a5",
   "metadata": {},
   "outputs": [
    {
     "name": "stdout",
     "output_type": "stream",
     "text": [
      "Enter the first number: 4\n",
      "Enter the second number: 5\n",
      "The higher number is: 5.0\n"
     ]
    }
   ],
   "source": [
    "# Accept two numbers from the user\n",
    "num1 = float(input(\"Enter the first number: \"))\n",
    "num2 = float(input(\"Enter the second number: \"))\n",
    "\n",
    "# Compare the two numbers and display the higher one\n",
    "if num1 > num2:\n",
    "    print(\"The higher number is:\", num1)\n",
    "elif num2 > num1:\n",
    "    print(\"The higher number is:\", num2)\n",
    "else:\n",
    "    print(\"Both numbers are equal.\")"
   ]
  },
  {
   "cell_type": "markdown",
   "id": "2b4370de",
   "metadata": {},
   "source": [
    "# task 3"
   ]
  },
  {
   "cell_type": "code",
   "execution_count": 8,
   "id": "b6c35c39",
   "metadata": {},
   "outputs": [
    {
     "name": "stdout",
     "output_type": "stream",
     "text": [
      "Enter the monthly basic salary: $4032\n",
      "GROSS_SALARY: 58060.799999999996\n"
     ]
    }
   ],
   "source": [
    "# Accept the monthly basic salary from the user\n",
    "basic_salary = float(input(\"Enter the monthly basic salary: $\"))\n",
    "\n",
    "# Initialize HRA and TA percentages based on the basic salary range\n",
    "if basic_salary < 4000:\n",
    "    hra_percentage = 10\n",
    "    ta_percentage = 5\n",
    "elif 4000 <= basic_salary <= 10000:\n",
    "    hra_percentage = 10\n",
    "    ta_percentage = 10\n",
    "else:\n",
    "    hra_percentage = 15\n",
    "    ta_percentage = 15\n",
    "# Calculate HRA and TA amounts\n",
    "hra_amount = (hra_percentage / 100) * basic_salary\n",
    "ta_amount = (ta_percentage / 100) * basic_salary\n",
    "\n",
    "# Calculate gross salary for a year\n",
    "gross_salary = (basic_salary + hra_amount + ta_amount) * 12\n",
    "\n",
    "# Display the gross salary\n",
    "print( \"GROSS_SALARY:\",gross_salary)    "
   ]
  },
  {
   "cell_type": "code",
   "execution_count": 21,
   "id": "744c9a27",
   "metadata": {},
   "outputs": [
    {
     "ename": "NameError",
     "evalue": "name 'python' is not defined",
     "output_type": "error",
     "traceback": [
      "\u001b[1;31m---------------------------------------------------------------------------\u001b[0m",
      "\u001b[1;31mNameError\u001b[0m                                 Traceback (most recent call last)",
      "Cell \u001b[1;32mIn[21], line 2\u001b[0m\n\u001b[0;32m      1\u001b[0m var \u001b[38;5;241m=\u001b[39m \u001b[38;5;124m\"\u001b[39m\u001b[38;5;124mpython is a interpreted,high-lavel,general-purpose programming language.its design philosophy emphasizes code readability.with its use of significant indentation.its language constructs as well as its object-oriented approch aim to helpprogrammers write clear,logical code for small andlarge-scale projects.\u001b[39m\u001b[38;5;124m\"\u001b[39m\n\u001b[1;32m----> 2\u001b[0m \u001b[38;5;28;01mif\u001b[39;00m python \u001b[38;5;129;01min\u001b[39;00m var:\n\u001b[0;32m      3\u001b[0m  \u001b[38;5;28mprint\u001b[39m(\u001b[38;5;124m\"\u001b[39m\u001b[38;5;124myes\u001b[39m\u001b[38;5;124m\"\u001b[39m)\n\u001b[0;32m      4\u001b[0m \u001b[38;5;28;01melse\u001b[39;00m:\n",
      "\u001b[1;31mNameError\u001b[0m: name 'python' is not defined"
     ]
    }
   ],
   "source": [
    "   var = \"python is a interpreted,high-lavel,general-purpose programming language.its design philosophy emphasizes code readability.with its use of significant indentation.its language constructs as well as its object-oriented approch aim to helpprogrammers write clear,logical code for small andlarge-scale projects.\"\n",
    "if python in var:\n",
    "    print(\"yes\")\n",
    "else:\n",
    "    print(\"no\")"
   ]
  },
  {
   "cell_type": "markdown",
   "id": "91e33156",
   "metadata": {},
   "source": [
    "## task 4"
   ]
  },
  {
   "cell_type": "code",
   "execution_count": 9,
   "id": "e109032d",
   "metadata": {},
   "outputs": [
    {
     "name": "stdout",
     "output_type": "stream",
     "text": [
      "Enter a word: python\n",
      "NO\n"
     ]
    }
   ],
   "source": [
    "# Define the string variable\n",
    "var = \"Python is an interpreted, high-level, general-purpose programming language. Its design philosophy emphasizes code readability, with its use of significant indentation. Its language constructs as well as its object-oriented approach aim to help programmers write clear, logical code for small and large-scale projects.\"\n",
    "\n",
    "# Accept a word from the user\n",
    "word_to_check = input(\"Enter a word: \")\n",
    "\n",
    "# Check if the word exists in the variable var\n",
    "if word_to_check in var:\n",
    "    print(\"YES\")\n",
    "else:\n",
    "    print(\"NO\")"
   ]
  },
  {
   "cell_type": "markdown",
   "id": "a6f560b8",
   "metadata": {},
   "source": [
    "# task 5"
   ]
  },
  {
   "cell_type": "code",
   "execution_count": 24,
   "id": "21623226",
   "metadata": {},
   "outputs": [
    {
     "name": "stdout",
     "output_type": "stream",
     "text": [
      "name of variable:A\n",
      " uppercase\n"
     ]
    }
   ],
   "source": [
    "nam=input(\"name of variable:\")\n",
    "if nam.isupper():\n",
    "    print(\" uppercase\")\n",
    "else:\n",
    "    print(\" lowercase\")"
   ]
  },
  {
   "cell_type": "markdown",
   "id": "5d0030e3",
   "metadata": {},
   "source": [
    "# Task 6"
   ]
  },
  {
   "cell_type": "code",
   "execution_count": 25,
   "id": "de56d587",
   "metadata": {},
   "outputs": [
    {
     "name": "stdout",
     "output_type": "stream",
     "text": [
      "enter alphabet:a\n",
      "vowel\n"
     ]
    }
   ],
   "source": [
    "alphabet=input(\"enter alphabet:\")\n",
    "if alphabet in 'aeiouAEIOU':\n",
    "    print( \"vowel\")\n",
    "else:\n",
    "    print(\"consonent\")"
   ]
  },
  {
   "cell_type": "code",
   "execution_count": null,
   "id": "bad641a4",
   "metadata": {},
   "outputs": [],
   "source": []
  }
 ],
 "metadata": {
  "kernelspec": {
   "display_name": "Python 3 (ipykernel)",
   "language": "python",
   "name": "python3"
  },
  "language_info": {
   "codemirror_mode": {
    "name": "ipython",
    "version": 3
   },
   "file_extension": ".py",
   "mimetype": "text/x-python",
   "name": "python",
   "nbconvert_exporter": "python",
   "pygments_lexer": "ipython3",
   "version": "3.11.5"
  }
 },
 "nbformat": 4,
 "nbformat_minor": 5
}
