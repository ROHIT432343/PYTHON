{
 "cells": [
  {
   "cell_type": "code",
   "execution_count": 20,
   "id": "3453e190",
   "metadata": {},
   "outputs": [],
   "source": [
    "import numpy as np\n",
    "import pandas as pd"
   ]
  },
  {
   "cell_type": "code",
   "execution_count": 21,
   "id": "4b6f6de8",
   "metadata": {},
   "outputs": [],
   "source": [
    "student_data=pd.read_csv('DS1_C4_S4_Test_Scores_Data_Practice.csv ')"
   ]
  },
  {
   "cell_type": "code",
   "execution_count": 22,
   "id": "8aa4836f",
   "metadata": {},
   "outputs": [
    {
     "data": {
      "text/html": [
       "<div>\n",
       "<style scoped>\n",
       "    .dataframe tbody tr th:only-of-type {\n",
       "        vertical-align: middle;\n",
       "    }\n",
       "\n",
       "    .dataframe tbody tr th {\n",
       "        vertical-align: top;\n",
       "    }\n",
       "\n",
       "    .dataframe thead th {\n",
       "        text-align: right;\n",
       "    }\n",
       "</style>\n",
       "<table border=\"1\" class=\"dataframe\">\n",
       "  <thead>\n",
       "    <tr style=\"text-align: right;\">\n",
       "      <th></th>\n",
       "      <th>school</th>\n",
       "      <th>school_setting</th>\n",
       "      <th>school_type</th>\n",
       "      <th>classroom</th>\n",
       "      <th>teaching_method</th>\n",
       "      <th>student_id</th>\n",
       "      <th>gender</th>\n",
       "      <th>tuitionfee_waiver</th>\n",
       "      <th>test1</th>\n",
       "      <th>test2</th>\n",
       "    </tr>\n",
       "  </thead>\n",
       "  <tbody>\n",
       "    <tr>\n",
       "      <th>0</th>\n",
       "      <td>ANKYI</td>\n",
       "      <td>Urban</td>\n",
       "      <td>Non-public</td>\n",
       "      <td>6OL</td>\n",
       "      <td>Standard</td>\n",
       "      <td>2FHT3</td>\n",
       "      <td>Female</td>\n",
       "      <td>Does not qualify</td>\n",
       "      <td>62.0</td>\n",
       "      <td>72.0</td>\n",
       "    </tr>\n",
       "    <tr>\n",
       "      <th>1</th>\n",
       "      <td>ANKYI</td>\n",
       "      <td>Urban</td>\n",
       "      <td>Non-public</td>\n",
       "      <td>6OL</td>\n",
       "      <td>Standard</td>\n",
       "      <td>3JIVH</td>\n",
       "      <td>Female</td>\n",
       "      <td>Does not qualify</td>\n",
       "      <td>66.0</td>\n",
       "      <td>79.0</td>\n",
       "    </tr>\n",
       "    <tr>\n",
       "      <th>2</th>\n",
       "      <td>ANKYI</td>\n",
       "      <td>Urban</td>\n",
       "      <td>Non-public</td>\n",
       "      <td>6OL</td>\n",
       "      <td>Standard</td>\n",
       "      <td>3XOWE</td>\n",
       "      <td>Male</td>\n",
       "      <td>Does not qualify</td>\n",
       "      <td>64.0</td>\n",
       "      <td>76.0</td>\n",
       "    </tr>\n",
       "    <tr>\n",
       "      <th>3</th>\n",
       "      <td>ANKYI</td>\n",
       "      <td>Urban</td>\n",
       "      <td>Non-public</td>\n",
       "      <td>6OL</td>\n",
       "      <td>Standard</td>\n",
       "      <td>556O0</td>\n",
       "      <td>Female</td>\n",
       "      <td>Does not qualify</td>\n",
       "      <td>61.0</td>\n",
       "      <td>77.0</td>\n",
       "    </tr>\n",
       "    <tr>\n",
       "      <th>4</th>\n",
       "      <td>ANKYI</td>\n",
       "      <td>Urban</td>\n",
       "      <td>Non-public</td>\n",
       "      <td>6OL</td>\n",
       "      <td>Standard</td>\n",
       "      <td>74LOE</td>\n",
       "      <td>Male</td>\n",
       "      <td>Does not qualify</td>\n",
       "      <td>64.0</td>\n",
       "      <td>76.0</td>\n",
       "    </tr>\n",
       "    <tr>\n",
       "      <th>...</th>\n",
       "      <td>...</td>\n",
       "      <td>...</td>\n",
       "      <td>...</td>\n",
       "      <td>...</td>\n",
       "      <td>...</td>\n",
       "      <td>...</td>\n",
       "      <td>...</td>\n",
       "      <td>...</td>\n",
       "      <td>...</td>\n",
       "      <td>...</td>\n",
       "    </tr>\n",
       "    <tr>\n",
       "      <th>2128</th>\n",
       "      <td>ZOWMK</td>\n",
       "      <td>Urban</td>\n",
       "      <td>Public</td>\n",
       "      <td>ZBH</td>\n",
       "      <td>Standard</td>\n",
       "      <td>T8LSK</td>\n",
       "      <td>Female</td>\n",
       "      <td>Does not qualify</td>\n",
       "      <td>39.0</td>\n",
       "      <td>55.0</td>\n",
       "    </tr>\n",
       "    <tr>\n",
       "      <th>2129</th>\n",
       "      <td>ZOWMK</td>\n",
       "      <td>Urban</td>\n",
       "      <td>Public</td>\n",
       "      <td>ZBH</td>\n",
       "      <td>Standard</td>\n",
       "      <td>VNP26</td>\n",
       "      <td>Female</td>\n",
       "      <td>Qualifies for reduced/free</td>\n",
       "      <td>38.0</td>\n",
       "      <td>46.0</td>\n",
       "    </tr>\n",
       "    <tr>\n",
       "      <th>2130</th>\n",
       "      <td>ZOWMK</td>\n",
       "      <td>Urban</td>\n",
       "      <td>Public</td>\n",
       "      <td>ZBH</td>\n",
       "      <td>Standard</td>\n",
       "      <td>YDR1Z</td>\n",
       "      <td>Female</td>\n",
       "      <td>Qualifies for reduced/free</td>\n",
       "      <td>45.0</td>\n",
       "      <td>51.0</td>\n",
       "    </tr>\n",
       "    <tr>\n",
       "      <th>2131</th>\n",
       "      <td>ZOWMK</td>\n",
       "      <td>Urban</td>\n",
       "      <td>Public</td>\n",
       "      <td>ZBH</td>\n",
       "      <td>Standard</td>\n",
       "      <td>YUEIH</td>\n",
       "      <td>Male</td>\n",
       "      <td>Qualifies for reduced/free</td>\n",
       "      <td>46.0</td>\n",
       "      <td>53.0</td>\n",
       "    </tr>\n",
       "    <tr>\n",
       "      <th>2132</th>\n",
       "      <td>ZOWMK</td>\n",
       "      <td>Urban</td>\n",
       "      <td>Public</td>\n",
       "      <td>ZBH</td>\n",
       "      <td>Standard</td>\n",
       "      <td>ZVCQ8</td>\n",
       "      <td>Male</td>\n",
       "      <td>Qualifies for reduced/free</td>\n",
       "      <td>41.0</td>\n",
       "      <td>48.0</td>\n",
       "    </tr>\n",
       "  </tbody>\n",
       "</table>\n",
       "<p>2133 rows × 10 columns</p>\n",
       "</div>"
      ],
      "text/plain": [
       "     school school_setting school_type classroom teaching_method student_id  \\\n",
       "0     ANKYI          Urban  Non-public       6OL        Standard      2FHT3   \n",
       "1     ANKYI          Urban  Non-public       6OL        Standard      3JIVH   \n",
       "2     ANKYI          Urban  Non-public       6OL        Standard      3XOWE   \n",
       "3     ANKYI          Urban  Non-public       6OL        Standard      556O0   \n",
       "4     ANKYI          Urban  Non-public       6OL        Standard      74LOE   \n",
       "...     ...            ...         ...       ...             ...        ...   \n",
       "2128  ZOWMK          Urban      Public       ZBH        Standard      T8LSK   \n",
       "2129  ZOWMK          Urban      Public       ZBH        Standard      VNP26   \n",
       "2130  ZOWMK          Urban      Public       ZBH        Standard      YDR1Z   \n",
       "2131  ZOWMK          Urban      Public       ZBH        Standard      YUEIH   \n",
       "2132  ZOWMK          Urban      Public       ZBH        Standard      ZVCQ8   \n",
       "\n",
       "      gender            tuitionfee_waiver  test1  test2  \n",
       "0     Female             Does not qualify   62.0   72.0  \n",
       "1     Female             Does not qualify   66.0   79.0  \n",
       "2       Male             Does not qualify   64.0   76.0  \n",
       "3     Female             Does not qualify   61.0   77.0  \n",
       "4       Male             Does not qualify   64.0   76.0  \n",
       "...      ...                          ...    ...    ...  \n",
       "2128  Female             Does not qualify   39.0   55.0  \n",
       "2129  Female  Qualifies for reduced/free    38.0   46.0  \n",
       "2130  Female  Qualifies for reduced/free    45.0   51.0  \n",
       "2131    Male  Qualifies for reduced/free    46.0   53.0  \n",
       "2132    Male  Qualifies for reduced/free    41.0   48.0  \n",
       "\n",
       "[2133 rows x 10 columns]"
      ]
     },
     "execution_count": 22,
     "metadata": {},
     "output_type": "execute_result"
    }
   ],
   "source": [
    "student_data"
   ]
  },
  {
   "cell_type": "markdown",
   "id": "67c7e4d9",
   "metadata": {},
   "source": [
    "###### task 1"
   ]
  },
  {
   "cell_type": "code",
   "execution_count": 27,
   "id": "2b2cada6",
   "metadata": {},
   "outputs": [
    {
     "name": "stdout",
     "output_type": "stream",
     "text": [
      "Missing Values:\n",
      "school                0\n",
      "school_setting        0\n",
      "school_type           0\n",
      "classroom             0\n",
      "teaching_method       0\n",
      "student_id            0\n",
      "gender               10\n",
      "tuitionfee_waiver     0\n",
      "test1                 0\n",
      "test2                 0\n",
      "dtype: int64\n"
     ]
    }
   ],
   "source": [
    "# Identify missing values\n",
    "missing_values = student_data.isnull().sum()\n",
    "\n",
    "# Display missing values\n",
    "print(\"Missing Values:\")\n",
    "print(missing_values)\n",
    "\n",
    "# Treat missing values\n",
    "# Replace missing values in 'test1' with the mean of 'test1' score\n",
    "student_data['test1'].fillna(student_data['test1'].mean(), inplace=True)\n",
    "\n",
    "# Replace missing values in 'test2' with the median of 'test2' score\n",
    "student_data['test2'].fillna(student_data['test2'].median(), inplace=True)"
   ]
  },
  {
   "cell_type": "code",
   "execution_count": 28,
   "id": "5ca83c7f",
   "metadata": {},
   "outputs": [],
   "source": [
    "missing_values = student_data.isnull().sum()"
   ]
  },
  {
   "cell_type": "code",
   "execution_count": 29,
   "id": "edc7a05c",
   "metadata": {},
   "outputs": [
    {
     "data": {
      "text/plain": [
       "school                0\n",
       "school_setting        0\n",
       "school_type           0\n",
       "classroom             0\n",
       "teaching_method       0\n",
       "student_id            0\n",
       "gender               10\n",
       "tuitionfee_waiver     0\n",
       "test1                 0\n",
       "test2                 0\n",
       "dtype: int64"
      ]
     },
     "execution_count": 29,
     "metadata": {},
     "output_type": "execute_result"
    }
   ],
   "source": [
    "missing_values"
   ]
  },
  {
   "cell_type": "markdown",
   "id": "53f4fe75",
   "metadata": {},
   "source": [
    "###### task 2"
   ]
  },
  {
   "cell_type": "code",
   "execution_count": 32,
   "id": "51edc2ab",
   "metadata": {},
   "outputs": [
    {
     "name": "stdout",
     "output_type": "stream",
     "text": [
      "Duplicate Rows:\n",
      "Empty DataFrame\n",
      "Columns: [school, school_setting, school_type, classroom, teaching_method, student_id, gender, tuitionfee_waiver, test1, test2]\n",
      "Index: []\n",
      "\n",
      "DataFrame after removing duplicates:\n",
      "     school school_setting school_type classroom teaching_method student_id  \\\n",
      "0     ANKYI          Urban  Non-public       6OL        Standard      2FHT3   \n",
      "1     ANKYI          Urban  Non-public       6OL        Standard      3JIVH   \n",
      "2     ANKYI          Urban  Non-public       6OL        Standard      3XOWE   \n",
      "3     ANKYI          Urban  Non-public       6OL        Standard      556O0   \n",
      "4     ANKYI          Urban  Non-public       6OL        Standard      74LOE   \n",
      "...     ...            ...         ...       ...             ...        ...   \n",
      "2128  ZOWMK          Urban      Public       ZBH        Standard      T8LSK   \n",
      "2129  ZOWMK          Urban      Public       ZBH        Standard      VNP26   \n",
      "2130  ZOWMK          Urban      Public       ZBH        Standard      YDR1Z   \n",
      "2131  ZOWMK          Urban      Public       ZBH        Standard      YUEIH   \n",
      "2132  ZOWMK          Urban      Public       ZBH        Standard      ZVCQ8   \n",
      "\n",
      "      gender            tuitionfee_waiver  test1  test2  \n",
      "0     Female             Does not qualify   62.0   72.0  \n",
      "1     Female             Does not qualify   66.0   79.0  \n",
      "2       Male             Does not qualify   64.0   76.0  \n",
      "3     Female             Does not qualify   61.0   77.0  \n",
      "4       Male             Does not qualify   64.0   76.0  \n",
      "...      ...                          ...    ...    ...  \n",
      "2128  Female             Does not qualify   39.0   55.0  \n",
      "2129  Female  Qualifies for reduced/free    38.0   46.0  \n",
      "2130  Female  Qualifies for reduced/free    45.0   51.0  \n",
      "2131    Male  Qualifies for reduced/free    46.0   53.0  \n",
      "2132    Male  Qualifies for reduced/free    41.0   48.0  \n",
      "\n",
      "[2133 rows x 10 columns]\n"
     ]
    }
   ],
   "source": [
    "# Identify duplicate rows\n",
    "duplicate_rows = student_data[student_data.duplicated()]\n",
    "\n",
    "# Display duplicate rows\n",
    "print(\"Duplicate Rows:\")\n",
    "print(duplicate_rows)\n",
    "\n",
    "# Remove duplicate rows\n",
    "student_data = student_data.drop_duplicates()\n",
    "\n",
    "# Display the DataFrame after removing duplicates\n",
    "print(\"\\nDataFrame after removing duplicates:\")\n",
    "print(student_data)"
   ]
  },
  {
   "cell_type": "markdown",
   "id": "2b50722b",
   "metadata": {},
   "source": [
    "###### task 3"
   ]
  },
  {
   "cell_type": "code",
   "execution_count": 35,
   "id": "02844d9a",
   "metadata": {},
   "outputs": [
    {
     "name": "stdout",
     "output_type": "stream",
     "text": [
      "Updated 'tuitionfee_waiver' column:\n",
      "0        No\n",
      "1        No\n",
      "2        No\n",
      "3        No\n",
      "4        No\n",
      "       ... \n",
      "2128     No\n",
      "2129    Yes\n",
      "2130    Yes\n",
      "2131    Yes\n",
      "2132    Yes\n",
      "Name: tuitionfee_waiver, Length: 2133, dtype: object\n",
      "\n",
      "Verification of replacement:\n",
      "tuitionfee_waiver\n",
      "No     1215\n",
      "Yes     918\n",
      "Name: count, dtype: int64\n"
     ]
    }
   ],
   "source": [
    "# Replace values in 'tuitionfee_waiver' column\n",
    "student_data['tuitionfee_waiver'].replace({'Does not qualify': 'No', 'Qualifies for reduced/free ': 'Yes'}, inplace=True)\n",
    "\n",
    "# Display the updated column data\n",
    "print(\"Updated 'tuitionfee_waiver' column:\")\n",
    "print(student_data['tuitionfee_waiver'])\n",
    "\n",
    "# Verify if the values were replaced\n",
    "verification_values = student_data['tuitionfee_waiver'].value_counts()\n",
    "print(\"\\nVerification of replacement:\")\n",
    "print(verification_values)"
   ]
  },
  {
   "cell_type": "markdown",
   "id": "6527c424",
   "metadata": {},
   "source": [
    "###### task 4"
   ]
  },
  {
   "cell_type": "code",
   "execution_count": 37,
   "id": "04327c6b",
   "metadata": {},
   "outputs": [
    {
     "name": "stdout",
     "output_type": "stream",
     "text": [
      "Average Test1 Score by School:\n",
      "school\n",
      "ANKYI    61.341463\n",
      "CCAAW    64.623853\n",
      "CIMBB    65.067568\n",
      "CUQAM    53.925234\n",
      "DNQDD    54.327869\n",
      "FBUMG    62.891304\n",
      "GJJHK    53.194915\n",
      "GOKXL    50.796875\n",
      "GOOBU    38.354190\n",
      "IDGFP    75.202128\n",
      "KFZMY    41.865385\n",
      "KZKKE    37.261261\n",
      "LAYPA    62.035088\n",
      "OJOBU    56.197531\n",
      "QOQTS    52.543369\n",
      "UAGPU    62.390805\n",
      "UKPGS    78.453125\n",
      "UUUQX    67.106690\n",
      "VHDHF    52.666667\n",
      "VKWQH    52.060000\n",
      "VVTVA    36.122473\n",
      "ZMNYA    68.130435\n",
      "ZOWMK    41.572650\n",
      "Name: test1, dtype: float64\n",
      "\n",
      "School with the Highest Average Test1 Score:\n",
      "School: UKPGS, Average Test1 Score: 78.453125\n"
     ]
    }
   ],
   "source": [
    "# Group by 'school' and calculate the average test1 score\n",
    "average_test1_by_school = student_data.groupby('school')['test1'].mean()\n",
    "\n",
    "# Display the average test1 score for each school\n",
    "print(\"Average Test1 Score by School:\")\n",
    "print(average_test1_by_school)\n",
    "\n",
    "# Find the school with the highest average test1 score\n",
    "highest_average_school = average_test1_by_school.idxmax()\n",
    "highest_average_score = average_test1_by_school.max()\n",
    "\n",
    "# Display the school with the highest average test1 score\n",
    "print(\"\\nSchool with the Highest Average Test1 Score:\")\n",
    "print(f\"School: {highest_average_school}, Average Test1 Score: {highest_average_score}\")"
   ]
  },
  {
   "cell_type": "markdown",
   "id": "76ca7faa",
   "metadata": {},
   "source": [
    "###### task 5"
   ]
  },
  {
   "cell_type": "code",
   "execution_count": 38,
   "id": "cae75603",
   "metadata": {},
   "outputs": [
    {
     "name": "stdout",
     "output_type": "stream",
     "text": [
      "Highest Test2 Score by School:\n",
      "        test2\n",
      "school       \n",
      "ANKYI    79.0\n",
      "CCAAW    91.0\n",
      "CIMBB    88.0\n",
      "CUQAM    76.0\n",
      "DNQDD    79.0\n",
      "FBUMG    88.0\n",
      "GJJHK    85.0\n",
      "GOKXL    77.0\n",
      "GOOBU    68.0\n",
      "IDGFP   100.0\n",
      "KFZMY    67.0\n",
      "KZKKE    62.0\n",
      "LAYPA    84.0\n",
      "OJOBU    84.0\n",
      "QOQTS    85.0\n",
      "UAGPU    83.0\n",
      "UKPGS    99.0\n",
      "UUUQX    91.0\n",
      "VHDHF    77.0\n",
      "VKWQH    82.0\n",
      "VVTVA    68.0\n",
      "ZMNYA    95.0\n",
      "ZOWMK    63.0\n",
      "\n",
      "Top Five Schools Based on Highest Average Test1 Score:\n",
      "Index(['UKPGS', 'IDGFP', 'ZMNYA', 'UUUQX', 'CIMBB'], dtype='object', name='school')\n"
     ]
    }
   ],
   "source": [
    "# Pivot table to display the highest test2 score for each school\n",
    "highest_test2_by_school = student_data.pivot_table(index='school', values='test2', aggfunc='max')\n",
    "\n",
    "# Display the pivot table\n",
    "print(\"Highest Test2 Score by School:\")\n",
    "print(highest_test2_by_school)\n",
    "\n",
    "# Identify the top five schools based on the highest average test1 score\n",
    "top_five_schools = average_test1_by_school.nlargest(5).index\n",
    "\n",
    "# Display the top five schools\n",
    "print(\"\\nTop Five Schools Based on Highest Average Test1 Score:\")\n",
    "print(top_five_schools)"
   ]
  },
  {
   "cell_type": "markdown",
   "id": "a18e84da",
   "metadata": {},
   "source": [
    "###### task 6"
   ]
  },
  {
   "cell_type": "code",
   "execution_count": 40,
   "id": "b652d590",
   "metadata": {},
   "outputs": [
    {
     "name": "stdout",
     "output_type": "stream",
     "text": [
      "Information for Students with Scholarship:\n",
      "     student_id school classroom  test2  scholarship\n",
      "0         2FHT3  ANKYI       6OL   72.0            0\n",
      "1         3JIVH  ANKYI       6OL   79.0            0\n",
      "2         3XOWE  ANKYI       6OL   76.0            0\n",
      "3         556O0  ANKYI       6OL   77.0            0\n",
      "4         74LOE  ANKYI       6OL   76.0            0\n",
      "...         ...    ...       ...    ...          ...\n",
      "2128      T8LSK  ZOWMK       ZBH   55.0            0\n",
      "2129      VNP26  ZOWMK       ZBH   46.0            0\n",
      "2130      YDR1Z  ZOWMK       ZBH   51.0            0\n",
      "2131      YUEIH  ZOWMK       ZBH   53.0            0\n",
      "2132      ZVCQ8  ZOWMK       ZBH   48.0            0\n",
      "\n",
      "[2133 rows x 5 columns]\n"
     ]
    }
   ],
   "source": [
    "# Create a new column 'scholarship' with default value as 0\n",
    "student_data['scholarship'] = 0\n",
    "\n",
    "# Identify students from 'fbumg' with class '5LQ' and test2 score >= 80\n",
    "eligible_students = student_data[(student_data['school'] == 'FBUMG') & (student_data['classroom'] == '5LQ') & (student_data['test2'] >= 80)]\n",
    "\n",
    "# Update the 'scholarship' column for eligible students to $500\n",
    "student_data.loc[eligible_students.index, 'scholarship'] = 500\n",
    "\n",
    "# Display the information in tabular format\n",
    "print(\"Information for Students with Scholarship:\")\n",
    "print(student_data[['student_id', 'school', 'classroom', 'test2', 'scholarship']])"
   ]
  },
  {
   "cell_type": "markdown",
   "id": "3d79710f",
   "metadata": {},
   "source": [
    "###### task 7"
   ]
  },
  {
   "cell_type": "code",
   "execution_count": 42,
   "id": "6c9a7da4",
   "metadata": {},
   "outputs": [
    {
     "name": "stdout",
     "output_type": "stream",
     "text": [
      "Teaching Method Counts Segregated by School Setting:\n",
      "teaching_method  Experimental  Standard\n",
      "school_setting                         \n",
      "Rural                     201       309\n",
      "Suburban                  284       433\n",
      "Urban                     275       631\n"
     ]
    }
   ],
   "source": [
    "# Pivot table to display the count of each type of teaching method, segregated by school setting\n",
    "teaching_method_counts = student_data.pivot_table(index='school_setting', columns='teaching_method', values='student_id', aggfunc='count', fill_value=0)\n",
    "\n",
    "# Display the pivot table\n",
    "print(\"Teaching Method Counts Segregated by School Setting:\")\n",
    "print(teaching_method_counts)"
   ]
  },
  {
   "cell_type": "markdown",
   "id": "32e6c4e2",
   "metadata": {},
   "source": [
    "###### task 8"
   ]
  },
  {
   "cell_type": "code",
   "execution_count": 44,
   "id": "66d9032f",
   "metadata": {},
   "outputs": [
    {
     "name": "stdout",
     "output_type": "stream",
     "text": [
      "Gender-wise Count of Students in Different School Settings:\n",
      "gender          Female  Male\n",
      "school_setting              \n",
      "Rural              228   279\n",
      "Suburban           368   348\n",
      "Urban              456   444\n"
     ]
    }
   ],
   "source": [
    "# Group by 'school_setting' and 'gender', and then calculate the count\n",
    "gender_count_by_setting = student_data.groupby(['school_setting', 'gender']).size().unstack(fill_value=0)\n",
    "\n",
    "# Display the gender-wise count of students in different school settings\n",
    "print(\"Gender-wise Count of Students in Different School Settings:\")\n",
    "print(gender_count_by_setting)"
   ]
  },
  {
   "cell_type": "markdown",
   "id": "3d129026",
   "metadata": {},
   "source": [
    "###### task 9"
   ]
  },
  {
   "cell_type": "code",
   "execution_count": 45,
   "id": "16a854c5",
   "metadata": {},
   "outputs": [
    {
     "name": "stdout",
     "output_type": "stream",
     "text": [
      "Average Test2 Score by Gender and School Setting:\n",
      "gender             Female       Male\n",
      "school_setting                      \n",
      "Rural           63.991228  64.032258\n",
      "Suburban        76.027174  75.942529\n",
      "Urban           61.179825  62.421171\n"
     ]
    }
   ],
   "source": [
    "# Group by 'school_setting' and 'gender', and then calculate the average test2 score\n",
    "average_test2_by_gender_and_setting = student_data.groupby(['school_setting', 'gender'])['test2'].mean().unstack()\n",
    "\n",
    "# Display the average test2 score of male and female students in each school setting\n",
    "print(\"Average Test2 Score by Gender and School Setting:\")\n",
    "print(average_test2_by_gender_and_setting)"
   ]
  },
  {
   "cell_type": "code",
   "execution_count": null,
   "id": "ce7ec0fb",
   "metadata": {},
   "outputs": [],
   "source": []
  }
 ],
 "metadata": {
  "kernelspec": {
   "display_name": "Python 3 (ipykernel)",
   "language": "python",
   "name": "python3"
  },
  "language_info": {
   "codemirror_mode": {
    "name": "ipython",
    "version": 3
   },
   "file_extension": ".py",
   "mimetype": "text/x-python",
   "name": "python",
   "nbconvert_exporter": "python",
   "pygments_lexer": "ipython3",
   "version": "3.11.5"
  }
 },
 "nbformat": 4,
 "nbformat_minor": 5
}
