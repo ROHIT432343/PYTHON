{
 "cells": [
  {
   "cell_type": "markdown",
   "id": "124b5748",
   "metadata": {},
   "source": [
    "###### task 1"
   ]
  },
  {
   "cell_type": "code",
   "execution_count": null,
   "id": "c11a4078",
   "metadata": {},
   "outputs": [],
   "source": [
    "def is_palindrome(word):\n",
    "    word = word.lower()  # Convert the word to lowercase for case-insensitive comparison\n",
    "    reversed_word = word[::-1]  # Reverse the word\n",
    "\n",
    "    if word == reversed_word:\n",
    "        return True\n",
    "    else:\n",
    "        return False\n",
    "\n",
    "# Taking input from the user\n",
    "user_word = input(\"Enter a word: \")\n",
    "\n",
    "if is_palindrome(user_word):\n",
    "    print(f\"The word '{user_word}' is a palindrome!\")\n",
    "else:\n",
    "    print(f\"The word '{user_word}' is not a palindrome.\")"
   ]
  },
  {
   "cell_type": "markdown",
   "id": "28123856",
   "metadata": {},
   "source": [
    "###### task 2"
   ]
  },
  {
   "cell_type": "code",
   "execution_count": null,
   "id": "280a313a",
   "metadata": {},
   "outputs": [],
   "source": [
    "def sort_words():\n",
    "    words = input(\"Enter multiple words separated by spaces: \").split()\n",
    "    words.sort()\n",
    "    print(\"Sorted words:\", words)\n",
    "\n",
    "# Calling the function to execute the process\n",
    "sort_words()"
   ]
  },
  {
   "cell_type": "markdown",
   "id": "3f73f719",
   "metadata": {},
   "source": [
    "###### task 3"
   ]
  },
  {
   "cell_type": "code",
   "execution_count": null,
   "id": "e2aaaab4",
   "metadata": {},
   "outputs": [],
   "source": [
    "def list_to_string():\n",
    "    char_list = input(\"Enter a list of characters separated by spaces: \").split()\n",
    "    # Converting the list of characters to a string\n",
    "    word = ''.join(char_list)\n",
    "    print(\"Converted string:\", word)\n",
    "\n",
    "# Calling the function to execute the process\n",
    "list_to_string()"
   ]
  },
  {
   "cell_type": "markdown",
   "id": "75a2f0c0",
   "metadata": {},
   "source": [
    "######  task 4"
   ]
  },
  {
   "cell_type": "code",
   "execution_count": null,
   "id": "33ca1d55",
   "metadata": {},
   "outputs": [],
   "source": [
    "def min_max_numbers():\n",
    "    num_list = []  # Initialize an empty list to store the numbers\n",
    "    for _ in range(10):\n",
    "        num = float(input(\"Enter a number: \"))\n",
    "        num_list.append(num)\n",
    "\n",
    "    smallest = min(num_list)\n",
    "    largest = max(num_list)\n",
    "\n",
    "    print(\"Smallest number:\", smallest)\n",
    "    print(\"Largest number:\", largest)\n",
    "\n",
    "# Calling the function to execute the process\n",
    "min_max_numbers()"
   ]
  },
  {
   "cell_type": "markdown",
   "id": "9691c9c4",
   "metadata": {},
   "source": [
    "###### task 5"
   ]
  },
  {
   "cell_type": "code",
   "execution_count": 1,
   "id": "04cb066e",
   "metadata": {},
   "outputs": [
    {
     "name": "stdout",
     "output_type": "stream",
     "text": [
      "Enter item1: ITEM1\n",
      "Enter the price: 45.50\n",
      "Enter item2: ITEM2\n",
      "Enter the price: 35\n",
      "Enter item3: ITEM3\n",
      "Enter the price: 41.30\n",
      "Enter item4: ITEM4\n",
      "Enter the price: 29\n",
      "Enter item5: ITEM5\n",
      "Enter the price: 49.89\n",
      "Maximum value: 49.89\n",
      "Minimum value: 29.0\n"
     ]
    }
   ],
   "source": [
    "def max_min_dict():\n",
    "    items = {}\n",
    "    for i in range(5):\n",
    "        key = input(f\"Enter item{i + 1}: \")\n",
    "        value = float(input(\"Enter the price: \"))\n",
    "        items[key] = value\n",
    "\n",
    "    max_value = max(items.values())\n",
    "    min_value = min(items.values())\n",
    "\n",
    "    print(\"Maximum value:\", max_value)\n",
    "    print(\"Minimum value:\", min_value)\n",
    "\n",
    "# Calling the function to execute the process\n",
    "max_min_dict()"
   ]
  },
  {
   "cell_type": "markdown",
   "id": "27864861",
   "metadata": {},
   "source": [
    "###### task 6"
   ]
  },
  {
   "cell_type": "code",
   "execution_count": 2,
   "id": "4806988d",
   "metadata": {},
   "outputs": [
    {
     "name": "stdout",
     "output_type": "stream",
     "text": [
      "Enter your name: Jone Mathew\n",
      "Enter your age: 40\n",
      "Enter your gender: Male\n",
      "Enter your occupation: HR\n",
      "NAME: Jone Mathew\n",
      "Age: 40\n",
      "Gender: Male\n",
      "Occupation: HR\n"
     ]
    }
   ],
   "source": [
    "def f1():\n",
    "    name = input(\"Enter your name: \")\n",
    "    age = input(\"Enter your age: \")\n",
    "    gender = input(\"Enter your gender: \")\n",
    "    occupation = input(\"Enter your occupation: \")\n",
    "    \n",
    "    # Calling f2 within f1 to print the profile card\n",
    "    f2(name, age, gender, occupation)\n",
    "def f2(name, age, gender, occupation):\n",
    "    print(\"NAME:\", name)\n",
    "    print(\"Age:\", age)\n",
    "    print(\"Gender:\", gender)\n",
    "    print(\"Occupation:\", occupation)\n",
    "\n",
    "# Calling f1 to initiate the process\n",
    "f1()"
   ]
  },
  {
   "cell_type": "markdown",
   "id": "50ac85d5",
   "metadata": {},
   "source": [
    "###### task 7"
   ]
  },
  {
   "cell_type": "code",
   "execution_count": 3,
   "id": "d5e4813f",
   "metadata": {},
   "outputs": [
    {
     "name": "stdout",
     "output_type": "stream",
     "text": [
      "[('green', 1), ('blue', 2), ('yellow', 3), ('black', 4), ('red', 5)]\n"
     ]
    }
   ],
   "source": [
    "def sort_tuples(lst):\n",
    "    lst.sort(key=lambda x: x[1])  # Sorting the list based on the second element of each tuple\n",
    "    return lst\n",
    "\n",
    "color = [('black', 4), ('green', 1), ('red', 5), ('blue', 2), ('yellow', 3)]\n",
    "sorted_color = sort_tuples(color)\n",
    "print(sorted_color)"
   ]
  },
  {
   "cell_type": "markdown",
   "id": "d7c2491e",
   "metadata": {},
   "source": [
    "###### task 8"
   ]
  },
  {
   "cell_type": "code",
   "execution_count": 4,
   "id": "276c4338",
   "metadata": {},
   "outputs": [
    {
     "name": "stdout",
     "output_type": "stream",
     "text": [
      "Common elements: ['Mandy']\n"
     ]
    }
   ],
   "source": [
    "a = [\"Andy\", \"Mandy\", \"Sandy\"]\n",
    "b = [\"Handy\", \"Burgundy\", \"Mandy\"]\n",
    "\n",
    "common_elements = list(filter(lambda x: x in a, b))\n",
    "print(\"Common elements:\", common_elements)"
   ]
  },
  {
   "cell_type": "markdown",
   "id": "cc13bf53",
   "metadata": {},
   "source": [
    "###### task 9"
   ]
  },
  {
   "cell_type": "code",
   "execution_count": 5,
   "id": "64859fa9",
   "metadata": {},
   "outputs": [
    {
     "name": "stdout",
     "output_type": "stream",
     "text": [
      "Output: [29, 30, 31]\n"
     ]
    }
   ],
   "source": [
    "c = [12, 14, 14]\n",
    "d = [17, 16, 17]\n",
    "\n",
    "result = list(map(lambda x, y: x + y, c, d))\n",
    "print(\"Output:\", result)"
   ]
  },
  {
   "cell_type": "markdown",
   "id": "e87473d4",
   "metadata": {},
   "source": [
    "##### task10"
   ]
  },
  {
   "cell_type": "code",
   "execution_count": 6,
   "id": "0b0efb1e",
   "metadata": {},
   "outputs": [
    {
     "name": "stdout",
     "output_type": "stream",
     "text": [
      "Is the employee over 18 years old? True\n"
     ]
    }
   ],
   "source": [
    "from datetime import datetime\n",
    "\n",
    "def over_18(dob, doj):\n",
    "    # Convert string dates to datetime objects\n",
    "    date_of_birth = datetime.strptime(dob, '%m-%d-%Y')\n",
    "    date_of_joining = datetime.strptime(doj, '%m-%d-%Y')\n",
    "\n",
    "    # Calculate age by finding the difference in years\n",
    "    age = date_of_joining.year - date_of_birth.year - ((date_of_joining.month, date_of_joining.day) < (date_of_birth.month, date_of_birth.day))\n",
    "\n",
    "    # Check if age is over 18\n",
    "    return age >= 18\n",
    "# Test with provided dates\n",
    "dob = \"12-25-1991\"  # Date of birth\n",
    "doj = \"04-25-2020\"  # Date of joining\n",
    "\n",
    "result = over_18(dob, doj)\n",
    "print(\"Is the employee over 18 years old?\", result)"
   ]
  },
  {
   "cell_type": "code",
   "execution_count": null,
   "id": "2b82abb1",
   "metadata": {},
   "outputs": [],
   "source": []
  }
 ],
 "metadata": {
  "kernelspec": {
   "display_name": "Python 3 (ipykernel)",
   "language": "python",
   "name": "python3"
  },
  "language_info": {
   "codemirror_mode": {
    "name": "ipython",
    "version": 3
   },
   "file_extension": ".py",
   "mimetype": "text/x-python",
   "name": "python",
   "nbconvert_exporter": "python",
   "pygments_lexer": "ipython3",
   "version": "3.11.5"
  }
 },
 "nbformat": 4,
 "nbformat_minor": 5
}
