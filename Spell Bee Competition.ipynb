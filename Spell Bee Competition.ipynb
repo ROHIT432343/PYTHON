{
 "cells": [
  {
   "cell_type": "code",
   "execution_count": null,
   "id": "3d5dbdd3",
   "metadata": {},
   "outputs": [],
   "source": [
    "###### task 1\n",
    "data= [\"Mark Antony\",\"John Chan\",\"Bret Lee\",\"Jim Nick\",\"Janice Ken\",\"Florida Thomson\",\"Lily Jason\",\"Matt Antony\",\"Mark Thomas\",\n",
    "      \"Kenny Peterson\",\"Joe Cook\",\"Alexander Thomas\",\"Katy Perry\",\"Alexanderia Peterson\",\"Mark Antony\"]"
   ]
  },
  {
   "cell_type": "code",
   "execution_count": null,
   "id": "c5d8ea06",
   "metadata": {},
   "outputs": [],
   "source": [
    "print(data)"
   ]
  },
  {
   "cell_type": "code",
   "execution_count": null,
   "id": "d429a3eb",
   "metadata": {},
   "outputs": [],
   "source": [
    "name=input(\"enter the name of the five students\")\n",
    "data.append(name)\n",
    "print(data)"
   ]
  },
  {
   "cell_type": "code",
   "execution_count": null,
   "id": "a78fee42",
   "metadata": {},
   "outputs": [],
   "source": [
    "# add five student in data\n",
    "name=input(\"enter the name of the five students:\")\n",
    "data.append(name)\n",
    "print(data)"
   ]
  },
  {
   "cell_type": "code",
   "execution_count": null,
   "id": "61672310",
   "metadata": {},
   "outputs": [],
   "source": [
    "data[::-1]"
   ]
  },
  {
   "cell_type": "code",
   "execution_count": null,
   "id": "f7d9382d",
   "metadata": {},
   "outputs": [],
   "source": [
    "print(data[::-1])"
   ]
  },
  {
   "cell_type": "code",
   "execution_count": null,
   "id": "ce6fc206",
   "metadata": {},
   "outputs": [],
   "source": [
    "#task 3\n",
    "reversed_data = []\n",
    "for i in range(len(data) - 1, -1, -1):\n",
    "    reversed_data.append(data[i])\n",
    "\n",
    "print(reversed_data)"
   ]
  },
  {
   "cell_type": "code",
   "execution_count": null,
   "id": "fc71a5b3",
   "metadata": {},
   "outputs": [],
   "source": [
    "# task 4 \n",
    "final_list=set(data)\n",
    "print(\"final_list:\", final_list)"
   ]
  },
  {
   "cell_type": "code",
   "execution_count": null,
   "id": "3dc16048",
   "metadata": {},
   "outputs": [],
   "source": [
    "# task 5:- sorted list by alphbatical order\n",
    "sorted(final_list)"
   ]
  },
  {
   "cell_type": "code",
   "execution_count": null,
   "id": "a3ea1df3",
   "metadata": {},
   "outputs": [],
   "source": [
    "# Finding the 2nd, 12th, and last possision student in final_list\n",
    "second_student=data[1]  # Index 1 corresponds to the 2nd element\n",
    "towelv_student=data[11]  # Index 11 corresponds to the 12th element\n",
    "last_student=data[-1] # Negative index -1 corresponds to the last element\n",
    "\n",
    "final=[second_student,towelv_student,last_student]\n",
    "print(final)"
   ]
  },
  {
   "cell_type": "code",
   "execution_count": null,
   "id": "a744e28f",
   "metadata": {},
   "outputs": [],
   "source": [
    "for i in range(556,678):\n",
    "    if i%7==0:\n",
    "       print(i,end=\" \")\n"
   ]
  },
  {
   "cell_type": "code",
   "execution_count": null,
   "id": "c291e601",
   "metadata": {},
   "outputs": [],
   "source": [
    "n=input(\"enter the number:\")\n",
    "if i in range(1,31):\n",
    "    i%n==0\n",
    "    print(i)"
   ]
  },
  {
   "cell_type": "code",
   "execution_count": 2,
   "id": "adad305c",
   "metadata": {},
   "outputs": [
    {
     "name": "stdout",
     "output_type": "stream",
     "text": [
      "1 2 3 4 5 6 7 8 9 10 11 12 13 14 15 16 17 18 19 20 21 22 23 24 25 26 27 28 29 30 enter the number:3\n",
      "3\n"
     ]
    }
   ],
   "source": [
    "for i in range(1,31):\n",
    "    print(i,end=\" \")\n",
    "n=int(input(\"enter the number:\"))\n",
    "n%i==0\n",
    "print(n)\n"
   ]
  },
  {
   "cell_type": "code",
   "execution_count": 8,
   "id": "330c1579",
   "metadata": {},
   "outputs": [
    {
     "name": "stdout",
     "output_type": "stream",
     "text": [
      "[20, 22, 20, 10, 20, 20, 20, 20, 15]\n"
     ]
    }
   ],
   "source": [
    "firstlist=[1,21,3,4,5,6,7,18,4]\n",
    "lastlist=[19,1,17,6,15,14,13,2,11]\n",
    "third_list=[b + a for a, b in zip(firstlist, lastlist)]\n",
    "print(third_list)\n"
   ]
  },
  {
   "cell_type": "code",
   "execution_count": null,
   "id": "be4b5635",
   "metadata": {},
   "outputs": [],
   "source": []
  }
 ],
 "metadata": {
  "kernelspec": {
   "display_name": "Python 3 (ipykernel)",
   "language": "python",
   "name": "python3"
  },
  "language_info": {
   "codemirror_mode": {
    "name": "ipython",
    "version": 3
   },
   "file_extension": ".py",
   "mimetype": "text/x-python",
   "name": "python",
   "nbconvert_exporter": "python",
   "pygments_lexer": "ipython3",
   "version": "3.11.5"
  }
 },
 "nbformat": 4,
 "nbformat_minor": 5
}
