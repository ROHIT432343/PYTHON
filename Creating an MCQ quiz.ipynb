{
 "cells": [
  {
   "cell_type": "markdown",
   "id": "05c52b22",
   "metadata": {},
   "source": [
    "###### task 1"
   ]
  },
  {
   "cell_type": "code",
   "execution_count": 1,
   "id": "6557b84d",
   "metadata": {},
   "outputs": [
    {
     "name": "stdout",
     "output_type": "stream",
     "text": [
      "Number of Continents on Earth\n",
      "1:Seven 2:Four 3:Five 4:Six\n",
      "Enter the option between 1 and 4:4\n",
      "Which country successfully landed a man on the moon\n",
      "1:USA 2:Germany 3:France 4:England\n",
      "Enter the option between 1 and 4:3\n",
      "Which country is not present in the continent of North America\n",
      "1:Mexico 2:USA 3:Canada 4:Brazil\n",
      "Enter the option between 1 and 4:3\n",
      "Which is the American National Bird\n",
      "1:Parrot 2:Crane 3:Eagle 4:Swan\n",
      "Enter the option between 1 and 4:2\n",
      "Which country shares the longest border with the USA\n",
      "1:Mexico 2:Brazil 3:Canada 4:Argentina\n",
      "Enter the option between 1 and 4:3\n",
      "Which is the financial capital of the USA\n",
      "1:San Francisco 2:Boston 3:Los Angeles 4:NYC\n",
      "Enter the option between 1 and 4:1\n",
      "Which of the following space agencies belongs to the USA\n",
      "1:BNSC 2:ISRO 3:DLR 4:NASA\n",
      "Enter the option between 1 and 4:2\n",
      "Which is the second most spoken language in the USA\n",
      "1:English 2:Spanish 3:Mandarin 4:Italian\n",
      "Enter the option between 1 and 4:3\n",
      "Which is the capital city of the USA\n",
      "1:NYC 2:Washington DC 3:Austin 4:San Jose\n",
      "Enter the option between 1 and 4:1\n",
      "Mt Rushmore has the sculpture of\n",
      "1:Former US Presidents 2:Hollywood stars 3:Military Personnel 4:Scientists\n",
      "Enter the option between 1 and 4:3\n",
      "Final Score: 2\n"
     ]
    }
   ],
   "source": [
    "Q = {\n",
    "    \"Number of Continents on Earth\": \"1:Seven 2:Four 3:Five 4:Six\",\n",
    "    \"Which country successfully landed a man on the moon\": \"1:USA 2:Germany 3:France 4:England\",\n",
    "    \"Which country is not present in the continent of North America\": \"1:Mexico 2:USA 3:Canada 4:Brazil\",\n",
    "    \"Which is the American National Bird\": \"1:Parrot 2:Crane 3:Eagle 4:Swan\",\n",
    "    \"Which country shares the longest border with the USA\": \"1:Mexico 2:Brazil 3:Canada 4:Argentina\",\n",
    "    \"Which is the financial capital of the USA\": \"1:San Francisco 2:Boston 3:Los Angeles 4:NYC\",\n",
    "    \"Which of the following space agencies belongs to the USA\": \"1:BNSC 2:ISRO 3:DLR 4:NASA\",\n",
    "    \"Which is the second most spoken language in the USA\": \"1:English 2:Spanish 3:Mandarin 4:Italian\",\n",
    "    \"Which is the capital city of the USA\": \"1:NYC 2:Washington DC 3:Austin 4:San Jose\",\n",
    "    \"Mt Rushmore has the sculpture of\": \"1:Former US Presidents 2:Hollywood stars 3:Military Personnel 4:Scientists\"\n",
    "}\n",
    "\n",
    "CA = [1, 1, 4, 3, 3, 4, 4, 2, 2, 1]  # List of correct options\n",
    "\n",
    "A = list(Q.values())\n",
    "myit = iter(A)\n",
    "score = 0\n",
    "\n",
    "for i in Q:\n",
    "    print(i)\n",
    "    a = next(myit)\n",
    "    print(a)\n",
    "    ans = int(input(\"Enter the option between 1 and 4:\"))\n",
    "    \n",
    "    # Check if the answer is valid (between 1 and 4)\n",
    "    if ans in [1, 2, 3, 4]:\n",
    "        if ans == CA.pop(0):\n",
    "            score += 2\n",
    "\n",
    "print(\"Final Score:\", score)"
   ]
  },
  {
   "cell_type": "code",
   "execution_count": null,
   "id": "cc04a154",
   "metadata": {},
   "outputs": [],
   "source": []
  }
 ],
 "metadata": {
  "kernelspec": {
   "display_name": "Python 3 (ipykernel)",
   "language": "python",
   "name": "python3"
  },
  "language_info": {
   "codemirror_mode": {
    "name": "ipython",
    "version": 3
   },
   "file_extension": ".py",
   "mimetype": "text/x-python",
   "name": "python",
   "nbconvert_exporter": "python",
   "pygments_lexer": "ipython3",
   "version": "3.11.5"
  }
 },
 "nbformat": 4,
 "nbformat_minor": 5
}
