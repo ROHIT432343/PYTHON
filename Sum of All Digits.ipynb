{
 "cells": [
  {
   "cell_type": "markdown",
   "id": "e44b5525",
   "metadata": {},
   "source": [
    "## TASK 1"
   ]
  },
  {
   "cell_type": "code",
   "execution_count": 2,
   "id": "d562d42f",
   "metadata": {},
   "outputs": [
    {
     "name": "stdout",
     "output_type": "stream",
     "text": [
      "Enter a number: 5\n",
      "120\n"
     ]
    }
   ],
   "source": [
    "# Accept the number from the user\n",
    "n = int(input(\"Enter a number: \"))\n",
    "\n",
    "# Initialize variables for the loop\n",
    "factorial = 1\n",
    "i = 1\n",
    "\n",
    "# Calculate the factorial using a while loop\n",
    "while i <= n:\n",
    "    factorial *= i\n",
    "    i += 1\n",
    "\n",
    "# Display the factorial\n",
    "print(factorial)"
   ]
  },
  {
   "cell_type": "markdown",
   "id": "585314ab",
   "metadata": {},
   "source": [
    "### TASK 2"
   ]
  },
  {
   "cell_type": "code",
   "execution_count": 5,
   "id": "cb7a7f9b",
   "metadata": {},
   "outputs": [
    {
     "name": "stdout",
     "output_type": "stream",
     "text": [
      "50 is not a prime number\n",
      "51 is not a prime number\n"
     ]
    }
   ],
   "source": [
    "# Function to check if a number is prime\n",
    "def is_prime(number):\n",
    "    if number <= 1:\n",
    "        return False\n",
    "    if number <= 3:\n",
    "        return True\n",
    "    if number % 2 == 0 or number % 3 == 0:\n",
    "        return False\n",
    "    i = 5\n",
    "    while i * i <= number:\n",
    "        if number % i == 0 or number % (i + 2) == 0:\n",
    "            return False\n",
    "        i += 6\n",
    "    return True\n",
    "# Check if 50 is prime\n",
    "number = 50\n",
    "if is_prime(number):\n",
    "    print(f\"{number} is a prime number\")\n",
    "else:\n",
    "    print(f\"{number} is not a prime number\")\n",
    "\n",
    "# Check if 51 is prime\n",
    "number = 51\n",
    "if is_prime(number):\n",
    "    print(f\"{number} is a prime number\")\n",
    "else:\n",
    "    print(f\"{number} is not a prime number\")"
   ]
  },
  {
   "cell_type": "markdown",
   "id": "c0f77c29",
   "metadata": {},
   "source": [
    "#####  task 2\n"
   ]
  },
  {
   "cell_type": "code",
   "execution_count": 1,
   "id": "38bb0177",
   "metadata": {},
   "outputs": [
    {
     "name": "stdout",
     "output_type": "stream",
     "text": [
      "The sum of the digits is: 15\n"
     ]
    }
   ],
   "source": [
    "number = 12345\n",
    "sum = 0\n",
    "\n",
    "while number > 0:\n",
    "    digit = number % 10  # Get the last digit\n",
    "    sum += digit         # Add the digit to the sum\n",
    "    number = number // 10  # Remove the last digit\n",
    "\n",
    "print(\"The sum of the digits is:\", sum)"
   ]
  },
  {
   "cell_type": "markdown",
   "id": "d5c1a071",
   "metadata": {},
   "source": [
    "###### task 4"
   ]
  },
  {
   "cell_type": "code",
   "execution_count": 2,
   "id": "f9581f38",
   "metadata": {},
   "outputs": [
    {
     "name": "stdout",
     "output_type": "stream",
     "text": [
      "Fibonacci Series up to 7 values:\n",
      "0, 1, 1, 2, 3, 5, 8, "
     ]
    }
   ],
   "source": [
    "a, b = 0, 1\n",
    "count = 0\n",
    "\n",
    "print(\"Fibonacci Series up to 7 values:\")\n",
    "while count < 7:\n",
    "    print(a, end=\", \")\n",
    "    nth = a + b\n",
    "    a = b\n",
    "    b = nth\n",
    "    count += 1"
   ]
  },
  {
   "cell_type": "markdown",
   "id": "39f90f37",
   "metadata": {},
   "source": [
    "##### task 5"
   ]
  },
  {
   "cell_type": "code",
   "execution_count": 3,
   "id": "f1a0a2e1",
   "metadata": {},
   "outputs": [
    {
     "name": "stdout",
     "output_type": "stream",
     "text": [
      "ID of t1: 2425879707264\n",
      "ID of t2: 2425879682432\n",
      "ID of t1 after concatenation: 2425834250656\n",
      "ID of t2: 2425879682432\n"
     ]
    }
   ],
   "source": [
    "t1 = (1, 2, 3)\n",
    "t2 = (4, 5, 6)\n",
    "\n",
    "print(\"ID of t1:\", id(t1))\n",
    "print(\"ID of t2:\", id(t2))\n",
    "\n",
    "t1 = t1 + t2\n",
    "\n",
    "print(\"ID of t1 after concatenation:\", id(t1))\n",
    "print(\"ID of t2:\", id(t2))"
   ]
  },
  {
   "cell_type": "markdown",
   "id": "f802df71",
   "metadata": {},
   "source": [
    "##### task 6"
   ]
  },
  {
   "cell_type": "code",
   "execution_count": 4,
   "id": "b7559c08",
   "metadata": {},
   "outputs": [
    {
     "name": "stdout",
     "output_type": "stream",
     "text": [
      "Initial set m: {50, 20, 40, 10, 30}\n",
      "Adding 33 to set m: {33, 50, 20, 40, 10, 30}\n",
      "Adding 40 to set m: {33, 50, 20, 40, 10, 30}\n",
      "Adding 55 to set m: {33, 50, 20, 55, 40, 10, 30}\n",
      "Adding 60 to set m: {33, 50, 20, 55, 40, 10, 60, 30}\n",
      "Adding 70 to set m: {70, 10, 20, 30, 33, 40, 50, 55, 60}\n"
     ]
    }
   ],
   "source": [
    "m = {10, 20, 30, 40, 50}  # m is a set\n",
    "n = [33, 40, 55, 60, 70]  # n is a list\n",
    "\n",
    "print(\"Initial set m:\", m)\n",
    "\n",
    "for item in n:\n",
    "    m.add(item)\n",
    "    print(\"Adding\", item, \"to set m:\", m)"
   ]
  },
  {
   "cell_type": "markdown",
   "id": "4f8b6df0",
   "metadata": {},
   "source": [
    "###### task 7"
   ]
  },
  {
   "cell_type": "code",
   "execution_count": 5,
   "id": "af7dfffa",
   "metadata": {},
   "outputs": [
    {
     "name": "stdout",
     "output_type": "stream",
     "text": [
      "data:2\n",
      "sql:4\n"
     ]
    }
   ],
   "source": [
    "data_set = {\"python\": 1, \"data\": 2, \"excel\": 3, \"sql\": 4}\n",
    "\n",
    "keys = list(data_set.keys())\n",
    "values = list(data_set.values())\n",
    "\n",
    "count = 0\n",
    "\n",
    "while count < len(data_set):\n",
    "    if values[count] % 2 == 0:\n",
    "        print(keys[count] + \":\" + str(values[count]))\n",
    "    count += 1"
   ]
  },
  {
   "cell_type": "markdown",
   "id": "0b9d63ce",
   "metadata": {},
   "source": [
    "###### task 8"
   ]
  },
  {
   "cell_type": "code",
   "execution_count": 6,
   "id": "4092457e",
   "metadata": {},
   "outputs": [
    {
     "name": "stdout",
     "output_type": "stream",
     "text": [
      "Dictionary with keys as integers from 1 to 15 and their squares as values:\n",
      "{1: 1, 2: 4, 3: 9, 4: 16, 5: 25, 6: 36, 7: 49, 8: 64, 9: 81, 10: 100, 11: 121, 12: 144, 13: 169, 14: 196, 15: 225}\n",
      "\n",
      "Dictionary after adding {100: 10000}:\n",
      "{1: 1, 2: 4, 3: 9, 4: 16, 5: 25, 6: 36, 7: 49, 8: 64, 9: 81, 10: 100, 11: 121, 12: 144, 13: 169, 14: 196, 15: 225, 100: 10000}\n"
     ]
    }
   ],
   "source": [
    "d = {}\n",
    "for i in range(1, 16):\n",
    "    d.update({i: i*i})\n",
    "\n",
    "print(\"Dictionary with keys as integers from 1 to 15 and their squares as values:\")\n",
    "print(d)\n",
    "\n",
    "# Adding a new element {100: 10000} to the dictionary\n",
    "d.update({100: 10000})\n",
    "\n",
    "print(\"\\nDictionary after adding {100: 10000}:\")\n",
    "print(d)"
   ]
  },
  {
   "cell_type": "code",
   "execution_count": null,
   "id": "5bcc1752",
   "metadata": {},
   "outputs": [],
   "source": []
  }
 ],
 "metadata": {
  "kernelspec": {
   "display_name": "Python 3 (ipykernel)",
   "language": "python",
   "name": "python3"
  },
  "language_info": {
   "codemirror_mode": {
    "name": "ipython",
    "version": 3
   },
   "file_extension": ".py",
   "mimetype": "text/x-python",
   "name": "python",
   "nbconvert_exporter": "python",
   "pygments_lexer": "ipython3",
   "version": "3.11.5"
  }
 },
 "nbformat": 4,
 "nbformat_minor": 5
}
