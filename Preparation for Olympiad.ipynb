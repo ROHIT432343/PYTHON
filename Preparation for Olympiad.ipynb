{
 "cells": [
  {
   "cell_type": "code",
   "execution_count": 1,
   "id": "73515a3c",
   "metadata": {},
   "outputs": [],
   "source": [
    "maths_marks=[35, 86, 63, 90, 50, 63, 15, 72, 15, 54, 72, 83, 58, 70, 92, 40, 59, 63, 53, 59, 55, 85, 18, 83, 67, 85, 46, 59, 77, 71, 77, 56, 79, 61, 82, 76, 60, 52, 88, 78]\n",
    "physics_marks=[85, 94, 63, 59, 76, 64, 87, 55, 51, 71, 54, 94, 33, 72, 75, 67, 85, 15, 50, 50, 19, 55, 59, 65, 76, 13, 57, 70, 51, 94, 55, 50, 71, 91, 75, 51, 90, 70, 87, 56]"
   ]
  },
  {
   "cell_type": "markdown",
   "id": "25b3137e",
   "metadata": {},
   "source": [
    "###### task 1"
   ]
  },
  {
   "cell_type": "code",
   "execution_count": 2,
   "id": "f8552bec",
   "metadata": {},
   "outputs": [
    {
     "name": "stdout",
     "output_type": "stream",
     "text": [
      "0     1001\n",
      "1     1002\n",
      "2     1003\n",
      "3     1004\n",
      "4     1005\n",
      "5     1006\n",
      "6     1007\n",
      "7     1008\n",
      "8     1009\n",
      "9     1010\n",
      "10    1011\n",
      "11    1012\n",
      "12    1013\n",
      "13    1014\n",
      "14    1015\n",
      "15    1016\n",
      "16    1017\n",
      "17    1018\n",
      "18    1019\n",
      "19    1020\n",
      "20    1021\n",
      "21    1022\n",
      "22    1023\n",
      "23    1024\n",
      "24    1025\n",
      "25    1026\n",
      "26    1027\n",
      "27    1028\n",
      "28    1029\n",
      "29    1030\n",
      "30    1031\n",
      "31    1032\n",
      "32    1033\n",
      "33    1034\n",
      "34    1035\n",
      "35    1036\n",
      "36    1037\n",
      "37    1038\n",
      "38    1039\n",
      "39    1040\n",
      "Name: StudentID, dtype: int64\n"
     ]
    }
   ],
   "source": [
    "import pandas as pd\n",
    "\n",
    "# Create a Pandas Series for student IDs\n",
    "student_ids = pd.Series(range(1001, 1001 + 40), name='StudentID')\n",
    "\n",
    "# Display the student IDs\n",
    "print(student_ids)"
   ]
  },
  {
   "cell_type": "markdown",
   "id": "51859e8a",
   "metadata": {},
   "source": [
    "###### task 2"
   ]
  },
  {
   "cell_type": "code",
   "execution_count": 3,
   "id": "8f82fee0",
   "metadata": {},
   "outputs": [
    {
     "name": "stdout",
     "output_type": "stream",
     "text": [
      "Student IDs:\n",
      "0     1001\n",
      "1     1002\n",
      "2     1003\n",
      "3     1004\n",
      "4     1005\n",
      "5     1006\n",
      "6     1007\n",
      "7     1008\n",
      "8     1009\n",
      "9     1010\n",
      "10    1011\n",
      "11    1012\n",
      "12    1013\n",
      "13    1014\n",
      "14    1015\n",
      "15    1016\n",
      "16    1017\n",
      "17    1018\n",
      "18    1019\n",
      "19    1020\n",
      "20    1021\n",
      "21    1022\n",
      "22    1023\n",
      "23    1024\n",
      "24    1025\n",
      "25    1026\n",
      "26    1027\n",
      "27    1028\n",
      "28    1029\n",
      "29    1030\n",
      "30    1031\n",
      "31    1032\n",
      "32    1033\n",
      "33    1034\n",
      "34    1035\n",
      "35    1036\n",
      "36    1037\n",
      "37    1038\n",
      "38    1039\n",
      "39    1040\n",
      "Name: StudentID, dtype: int64\n",
      "\n",
      "Maths Marks:\n",
      "StudentID\n",
      "1001    35\n",
      "1002    86\n",
      "1003    63\n",
      "1004    90\n",
      "1005    50\n",
      "1006    63\n",
      "1007    15\n",
      "1008    72\n",
      "1009    15\n",
      "1010    54\n",
      "1011    72\n",
      "1012    83\n",
      "1013    58\n",
      "1014    70\n",
      "1015    92\n",
      "1016    40\n",
      "1017    59\n",
      "1018    63\n",
      "1019    53\n",
      "1020    59\n",
      "1021    55\n",
      "1022    85\n",
      "1023    18\n",
      "1024    83\n",
      "1025    67\n",
      "1026    85\n",
      "1027    46\n",
      "1028    59\n",
      "1029    77\n",
      "1030    71\n",
      "1031    77\n",
      "1032    56\n",
      "1033    79\n",
      "1034    61\n",
      "1035    82\n",
      "1036    76\n",
      "1037    60\n",
      "1038    52\n",
      "1039    88\n",
      "1040    78\n",
      "Name: Maths Marks, dtype: int64\n",
      "\n",
      "Physics Marks:\n",
      "StudentID\n",
      "1001    85\n",
      "1002    94\n",
      "1003    63\n",
      "1004    59\n",
      "1005    76\n",
      "1006    64\n",
      "1007    87\n",
      "1008    55\n",
      "1009    51\n",
      "1010    71\n",
      "1011    54\n",
      "1012    94\n",
      "1013    33\n",
      "1014    72\n",
      "1015    75\n",
      "1016    67\n",
      "1017    85\n",
      "1018    15\n",
      "1019    50\n",
      "1020    50\n",
      "1021    19\n",
      "1022    55\n",
      "1023    59\n",
      "1024    65\n",
      "1025    76\n",
      "1026    13\n",
      "1027    57\n",
      "1028    70\n",
      "1029    51\n",
      "1030    94\n",
      "1031    55\n",
      "1032    50\n",
      "1033    71\n",
      "1034    91\n",
      "1035    75\n",
      "1036    51\n",
      "1037    90\n",
      "1038    70\n",
      "1039    87\n",
      "1040    56\n",
      "Name: Physics Marks, dtype: int64\n"
     ]
    }
   ],
   "source": [
    "# Given data\n",
    "maths_marks = [35, 86, 63, 90, 50, 63, 15, 72, 15, 54, 72, 83, 58, 70, 92, 40, 59, 63, 53, 59, 55, 85, 18, 83, 67, 85, 46, 59, 77, 71, 77, 56, 79, 61, 82, 76, 60, 52, 88, 78]\n",
    "physics_marks = [85, 94, 63, 59, 76, 64, 87, 55, 51, 71, 54, 94, 33, 72, 75, 67, 85, 15, 50, 50, 19, 55, 59, 65, 76, 13, 57, 70, 51, 94, 55, 50, 71, 91, 75, 51, 90, 70, 87, 56]\n",
    "\n",
    "# Create Pandas Series for maths and physics marks with student IDs as index\n",
    "maths_series = pd.Series(maths_marks, index=student_ids, name='Maths Marks')\n",
    "physics_series = pd.Series(physics_marks, index=student_ids, name='Physics Marks')\n",
    "\n",
    "# Display the student IDs and Pandas Series\n",
    "print(\"Student IDs:\")\n",
    "print(student_ids)\n",
    "\n",
    "print(\"\\nMaths Marks:\")\n",
    "print(maths_series)\n",
    "\n",
    "print(\"\\nPhysics Marks:\")\n",
    "print(physics_series)"
   ]
  },
  {
   "cell_type": "markdown",
   "id": "fc03f688",
   "metadata": {},
   "source": [
    "###### task 3"
   ]
  },
  {
   "cell_type": "code",
   "execution_count": 5,
   "id": "806ed3ef",
   "metadata": {},
   "outputs": [
    {
     "name": "stdout",
     "output_type": "stream",
     "text": [
      "\n",
      "Sum of Scores:\n",
      "StudentID\n",
      "1001    120\n",
      "1002    180\n",
      "1003    126\n",
      "1004    149\n",
      "1005    126\n",
      "1006    127\n",
      "1007    102\n",
      "1008    127\n",
      "1009     66\n",
      "1010    125\n",
      "1011    126\n",
      "1012    177\n",
      "1013     91\n",
      "1014    142\n",
      "1015    167\n",
      "1016    107\n",
      "1017    144\n",
      "1018     78\n",
      "1019    103\n",
      "1020    109\n",
      "1021     74\n",
      "1022    140\n",
      "1023     77\n",
      "1024    148\n",
      "1025    143\n",
      "1026     98\n",
      "1027    103\n",
      "1028    129\n",
      "1029    128\n",
      "1030    165\n",
      "1031    132\n",
      "1032    106\n",
      "1033    150\n",
      "1034    152\n",
      "1035    157\n",
      "1036    127\n",
      "1037    150\n",
      "1038    122\n",
      "1039    175\n",
      "1040    134\n",
      "Name: Sum of Scores, dtype: int64\n"
     ]
    }
   ],
   "source": [
    "# Create Pandas Series for maths and physics marks with student IDs as index\n",
    "maths_series = pd.Series(maths_marks, index=student_ids, name='Maths Marks')\n",
    "physics_series = pd.Series(physics_marks, index=student_ids, name='Physics Marks')\n",
    "\n",
    "# Create a new Pandas Series for the sum of scores\n",
    "sum_scores_series = maths_series + physics_series\n",
    "sum_scores_series.name = 'Sum of Scores'\n",
    "\n",
    "# Display the Pandas \n",
    "\n",
    "print(\"\\nSum of Scores:\")\n",
    "print(sum_scores_series)"
   ]
  },
  {
   "cell_type": "markdown",
   "id": "9b119c8d",
   "metadata": {},
   "source": [
    "###### task 4"
   ]
  },
  {
   "cell_type": "code",
   "execution_count": 19,
   "id": "da352735",
   "metadata": {},
   "outputs": [
    {
     "data": {
      "text/plain": [
       "StudentID\n",
       "1001    120\n",
       "1002    180\n",
       "1003    126\n",
       "1004    149\n",
       "1005    126\n",
       "1006    127\n",
       "1007    102\n",
       "1008    127\n",
       "1009     66\n",
       "1010    125\n",
       "1011    126\n",
       "1012    177\n",
       "1013     91\n",
       "1014    142\n",
       "1015    167\n",
       "1016    107\n",
       "1017    144\n",
       "1018     78\n",
       "1019    103\n",
       "1020    109\n",
       "1021     74\n",
       "1022    140\n",
       "1023     77\n",
       "1024    148\n",
       "1025    143\n",
       "1026     98\n",
       "1027    103\n",
       "1028    129\n",
       "1029    128\n",
       "1030    165\n",
       "1031    132\n",
       "1032    106\n",
       "1033    150\n",
       "1034    152\n",
       "1035    157\n",
       "1036    127\n",
       "1037    150\n",
       "1038    122\n",
       "1039    175\n",
       "1040    134\n",
       "dtype: int64"
      ]
     },
     "execution_count": 19,
     "metadata": {},
     "output_type": "execute_result"
    }
   ],
   "source": [
    "sum_scores_series = maths_series + physics_series\n",
    "sum_scores_series"
   ]
  },
  {
   "cell_type": "code",
   "execution_count": 21,
   "id": "f132e031",
   "metadata": {},
   "outputs": [],
   "source": [
    "qualified_students = sum_scores_series[sum_scores_series >= 120]"
   ]
  },
  {
   "cell_type": "code",
   "execution_count": 23,
   "id": "50bd93eb",
   "metadata": {},
   "outputs": [
    {
     "name": "stdout",
     "output_type": "stream",
     "text": [
      "Qualified Student IDs for Round 1:\n",
      "StudentID\n",
      "1001    120\n",
      "1002    180\n",
      "1003    126\n",
      "1004    149\n",
      "1005    126\n",
      "1006    127\n",
      "1008    127\n",
      "1010    125\n",
      "1011    126\n",
      "1012    177\n",
      "1014    142\n",
      "1015    167\n",
      "1017    144\n",
      "1022    140\n",
      "1024    148\n",
      "1025    143\n",
      "1028    129\n",
      "1029    128\n",
      "1030    165\n",
      "1031    132\n",
      "1033    150\n",
      "1034    152\n",
      "1035    157\n",
      "1036    127\n",
      "1037    150\n",
      "1038    122\n",
      "1039    175\n",
      "1040    134\n",
      "Name: Sum of Scores, dtype: int64\n"
     ]
    }
   ],
   "source": [
    "\n",
    "\n",
    "# Create Pandas Series for maths and physics marks with student IDs as index\n",
    "maths_series = pd.Series(maths_marks, index=student_ids, name='Maths Marks')\n",
    "physics_series = pd.Series(physics_marks, index=student_ids, name='Physics Marks')\n",
    "\n",
    "# Create a new Pandas Series for the sum of scores\n",
    "sum_scores_series = maths_series + physics_series\n",
    "sum_scores_series.name = 'Sum of Scores'\n",
    "\n",
    "# Cutoff score for round 1\n",
    "cutoff_score = 120\n",
    "\n",
    "# Filter student IDs based on the cutoff score\n",
    "qualified_students = sum_scores_series[sum_scores_series >= 120]\n",
    "\n",
    "# Display the qualified student IDs\n",
    "print(\"Qualified Student IDs for Round 1:\")\n",
    "print(qualified_students)"
   ]
  },
  {
   "cell_type": "markdown",
   "id": "fca5d9fc",
   "metadata": {},
   "source": [
    "###### task 5"
   ]
  },
  {
   "cell_type": "code",
   "execution_count": 24,
   "id": "df89a3b5",
   "metadata": {},
   "outputs": [
    {
     "name": "stdout",
     "output_type": "stream",
     "text": [
      "DataFrame of Round 1 Qualifiers:\n",
      "           Round 1 Qualifiers\n",
      "StudentID                    \n",
      "1002                      180\n",
      "1003                      126\n",
      "1004                      149\n",
      "1005                      126\n",
      "1006                      127\n",
      "1008                      127\n",
      "1010                      125\n",
      "1011                      126\n",
      "1012                      177\n",
      "1014                      142\n",
      "1015                      167\n",
      "1017                      144\n",
      "1022                      140\n",
      "1024                      148\n",
      "1025                      143\n",
      "1028                      129\n",
      "1029                      128\n",
      "1030                      165\n",
      "1031                      132\n",
      "1033                      150\n",
      "1034                      152\n",
      "1035                      157\n",
      "1036                      127\n",
      "1037                      150\n",
      "1038                      122\n",
      "1039                      175\n",
      "1040                      134\n"
     ]
    }
   ],
   "source": [
    "# Create Pandas Series for maths and physics marks with student IDs as index\n",
    "maths_series = pd.Series(maths_marks, index=student_ids, name='Maths Marks')\n",
    "physics_series = pd.Series(physics_marks, index=student_ids, name='Physics Marks')\n",
    "\n",
    "# Create a new Pandas Series for the sum of scores\n",
    "sum_scores_series = maths_series + physics_series\n",
    "sum_scores_series.name = 'Round 1 Qualifiers'\n",
    "\n",
    "# Create a DataFrame with the qualifying students\n",
    "qualifiers_df = pd.DataFrame(sum_scores_series[sum_scores_series > 120])\n",
    "\n",
    "# Display the DataFrame\n",
    "print(\"DataFrame of Round 1 Qualifiers:\")\n",
    "print(qualifiers_df)"
   ]
  },
  {
   "cell_type": "markdown",
   "id": "138c40bb",
   "metadata": {},
   "source": [
    "###### task 6"
   ]
  },
  {
   "cell_type": "code",
   "execution_count": 29,
   "id": "020a6538",
   "metadata": {},
   "outputs": [
    {
     "name": "stdout",
     "output_type": "stream",
     "text": [
      "DataFrame of Round 2 Qualifiers:\n",
      "Empty DataFrame\n",
      "Columns: [Round 2 Qualifier]\n",
      "Index: []\n"
     ]
    }
   ],
   "source": [
    "# Create a new Pandas Series for the sum of scores\n",
    "sum_scores_series = maths_series + physics_series\n",
    "sum_scores_series.name = 'Round 1 Qualifiers'\n",
    "\n",
    "# Conditions for Round 2 qualification\n",
    "round2_qualifiers = physics_series[(maths_series >= 50) & (physics_series >= 50) & (sum_scores_series == 120)]\n",
    "round2_qualifiers.name = 'Round 2 Qualifier'\n",
    "\n",
    "# Create a DataFrame with the qualifying students for Round 2\n",
    "round2_qualifiers_df = pd.DataFrame(round2_qualifiers)\n",
    "\n",
    "# Display the DataFrame\n",
    "print(\"DataFrame of Round 2 Qualifiers:\")\n",
    "print(round2_qualifiers_df)"
   ]
  },
  {
   "cell_type": "markdown",
   "id": "21032b21",
   "metadata": {},
   "source": [
    "##### task 7"
   ]
  },
  {
   "cell_type": "code",
   "execution_count": 30,
   "id": "af229ebe",
   "metadata": {},
   "outputs": [
    {
     "name": "stdout",
     "output_type": "stream",
     "text": [
      "Number of students qualifying for Round 2: 0\n"
     ]
    }
   ],
   "source": [
    "round2_qualifiers_count = round2_qualifiers_df.shape[0]\n",
    "print(f\"Number of students qualifying for Round 2: {round2_qualifiers_count}\")"
   ]
  },
  {
   "cell_type": "code",
   "execution_count": null,
   "id": "5139f19c",
   "metadata": {},
   "outputs": [],
   "source": []
  }
 ],
 "metadata": {
  "kernelspec": {
   "display_name": "Python 3 (ipykernel)",
   "language": "python",
   "name": "python3"
  },
  "language_info": {
   "codemirror_mode": {
    "name": "ipython",
    "version": 3
   },
   "file_extension": ".py",
   "mimetype": "text/x-python",
   "name": "python",
   "nbconvert_exporter": "python",
   "pygments_lexer": "ipython3",
   "version": "3.11.5"
  }
 },
 "nbformat": 4,
 "nbformat_minor": 5
}
