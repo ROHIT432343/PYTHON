{
 "cells": [
  {
   "cell_type": "code",
   "execution_count": 1,
   "id": "cd121972",
   "metadata": {},
   "outputs": [],
   "source": [
    "price = [80121, 48483, 37077, 30660, 68536, 52666, 78703, 51036, 55643, 56990, 39967, 93822, 51406, 93947, 78373, 62765, 47536, 40528, 58780, 83197]"
   ]
  },
  {
   "cell_type": "markdown",
   "id": "cef35242",
   "metadata": {},
   "source": [
    "###### task 1"
   ]
  },
  {
   "cell_type": "code",
   "execution_count": 35,
   "id": "49f76196",
   "metadata": {},
   "outputs": [
    {
     "name": "stdout",
     "output_type": "stream",
     "text": [
      "101    80121\n",
      "102    48483\n",
      "103    37077\n",
      "104    30660\n",
      "105    68536\n",
      "106    52666\n",
      "107    78703\n",
      "108    51036\n",
      "109    55643\n",
      "110    56990\n",
      "111    39967\n",
      "112    93822\n",
      "113    51406\n",
      "114    93947\n",
      "115    78373\n",
      "116    62765\n",
      "117    47536\n",
      "118    40528\n",
      "119    58780\n",
      "120    83197\n",
      "Name: Car Price, dtype: int64\n"
     ]
    }
   ],
   "source": [
    "import pandas as pd\n",
    "# Row indices from 101 to 120\n",
    "row_indices = range(101, 121)\n",
    "\n",
    "# Create a Pandas Series for car prices\n",
    "car_prices_series = pd.Series(price, index=row_indices, name='Car Price')\n",
    "\n",
    "# Display the Pandas Series\n",
    "print(car_prices_series)"
   ]
  },
  {
   "cell_type": "markdown",
   "id": "0df6bfdf",
   "metadata": {},
   "source": [
    "###### task 2"
   ]
  },
  {
   "cell_type": "code",
   "execution_count": 36,
   "id": "69b760f6",
   "metadata": {},
   "outputs": [
    {
     "name": "stdout",
     "output_type": "stream",
     "text": [
      "highest price: 93947\n",
      "lowest price: 30660\n"
     ]
    }
   ],
   "source": [
    "# Find the row index with the highest price\n",
    "max_price_index = car_prices_series.idxmax()\n",
    "\n",
    "# Find the row index with the lowest price\n",
    "min_price_index = car_prices_series.idxmin()\n",
    "\n",
    "# Get the prices corresponding to the identified indices\n",
    "max_price = car_prices_series[max_price_index]\n",
    "min_price = car_prices_series[min_price_index]\n",
    "\n",
    "# Display the results\n",
    "print(\"highest price:\", max_price)\n",
    "print(\"lowest price:\", min_price)"
   ]
  },
  {
   "cell_type": "markdown",
   "id": "dbbfc16b",
   "metadata": {},
   "source": [
    "###### task 3"
   ]
  },
  {
   "cell_type": "code",
   "execution_count": 37,
   "id": "10b32e3c",
   "metadata": {},
   "outputs": [
    {
     "name": "stdout",
     "output_type": "stream",
     "text": [
      "Top 5 cars with the highest prices:\n",
      "114    93947\n",
      "112    93822\n",
      "120    83197\n",
      "101    80121\n",
      "107    78703\n",
      "Name: Car Price, dtype: int64\n"
     ]
    }
   ],
   "source": [
    "# Get the top 5 cars with the highest prices\n",
    "top5_highest_prices = car_prices_series.nlargest(5)\n",
    "\n",
    "# Display the result\n",
    "print(\"Top 5 cars with the highest prices:\")\n",
    "print(top5_highest_prices)"
   ]
  },
  {
   "cell_type": "markdown",
   "id": "55f09bf8",
   "metadata": {},
   "source": [
    "###### task 4"
   ]
  },
  {
   "cell_type": "code",
   "execution_count": 38,
   "id": "cebec717",
   "metadata": {},
   "outputs": [
    {
     "name": "stdout",
     "output_type": "stream",
     "text": [
      "Car prices between $30,000 and $40,000:\n",
      "103    37077\n",
      "104    30660\n",
      "111    39967\n",
      "Name: Car Price, dtype: int64\n",
      "\n",
      "Count of cars between $30,000 and $40,000: 3\n"
     ]
    }
   ],
   "source": [
    "# Filter cars with prices between 30 and 40\n",
    "filtered_cars = car_prices_series[(car_prices_series >= 30000) & (car_prices_series <= 40000)]\n",
    "\n",
    "# Display the prices and row indices of cars between 30 and 40\n",
    "print(\"Car prices between $30,000 and $40,000:\")\n",
    "print(filtered_cars)\n",
    "\n",
    "# Display the count of cars between 30 and 40\n",
    "print(\"\\nCount of cars between $30,000 and $40,000:\", len(filtered_cars))"
   ]
  },
  {
   "cell_type": "markdown",
   "id": "4f568e3f",
   "metadata": {},
   "source": [
    "###### task 5"
   ]
  },
  {
   "cell_type": "code",
   "execution_count": 39,
   "id": "d8fa93b1",
   "metadata": {},
   "outputs": [
    {
     "name": "stdout",
     "output_type": "stream",
     "text": [
      "Car prices above the average:\n",
      "101    80121\n",
      "105    68536\n",
      "107    78703\n",
      "112    93822\n",
      "114    93947\n",
      "115    78373\n",
      "116    62765\n",
      "120    83197\n",
      "Name: Car Price, dtype: int64\n",
      "\n",
      "Count of cars above the average: 8\n"
     ]
    }
   ],
   "source": [
    "# Calculate the average price of all cars\n",
    "average_price = car_prices_series.mean()\n",
    "\n",
    "# Filter cars with prices above the average\n",
    "above_average_cars = car_prices_series[car_prices_series > average_price]\n",
    "\n",
    "# Display the prices and row indices of cars above the average\n",
    "print(\"Car prices above the average:\")\n",
    "print(above_average_cars)\n",
    "\n",
    "# Display the count of cars above the average\n",
    "print(\"\\nCount of cars above the average:\",len(above_average_cars))"
   ]
  },
  {
   "cell_type": "markdown",
   "id": "af1b697b",
   "metadata": {},
   "source": [
    "###### task 6"
   ]
  },
  {
   "cell_type": "code",
   "execution_count": 42,
   "id": "aaff3a89",
   "metadata": {},
   "outputs": [
    {
     "name": "stdout",
     "output_type": "stream",
     "text": [
      "101    80121\n",
      "102    48483\n",
      "103    37077\n",
      "104    30660\n",
      "105    68536\n",
      "106    52666\n",
      "107    78703\n",
      "108    51036\n",
      "109    55643\n",
      "110    56990\n",
      "111    39967\n",
      "112    93822\n",
      "113    51406\n",
      "114    93947\n",
      "115    78373\n",
      "116    62765\n",
      "117    47536\n",
      "118    40528\n",
      "119    58780\n",
      "120    83197\n",
      "201    34000\n",
      "202    45000\n",
      "203    54000\n",
      "Name: Car Price, dtype: int64\n"
     ]
    }
   ],
   "source": [
    "# Adding three new cars\n",
    "new_cars_data = [34000, 45000, 54000]\n",
    "new_cars_index = [201, 202, 203]\n",
    "new_cars_series = pd.Series(new_cars_data, index=new_cars_index, name='Car Price')\n",
    "\n",
    "# Update the existing data by concatenating the old and new Series\n",
    "car_prices_series = pd.concat([car_prices_series, new_cars_series])\n",
    "\n",
    "# Display the prices along with the row indexes for all cars\n",
    "print(car_prices_series)"
   ]
  },
  {
   "cell_type": "markdown",
   "id": "20801503",
   "metadata": {},
   "source": [
    "###### task 7"
   ]
  },
  {
   "cell_type": "code",
   "execution_count": 43,
   "id": "8c19c39c",
   "metadata": {},
   "outputs": [
    {
     "name": "stdout",
     "output_type": "stream",
     "text": [
      "     Original Price  Discounted Price\n",
      "101           80121           64096.8\n",
      "102           48483           48483.0\n",
      "103           37077           37077.0\n",
      "104           30660           30660.0\n",
      "105           68536           54828.8\n",
      "106           52666           52666.0\n",
      "107           78703           62962.4\n",
      "108           51036           51036.0\n",
      "109           55643           55643.0\n",
      "110           56990           56990.0\n",
      "111           39967           39967.0\n",
      "112           93822           75057.6\n",
      "113           51406           51406.0\n",
      "114           93947           75157.6\n",
      "115           78373           62698.4\n",
      "116           62765           50212.0\n",
      "117           47536           47536.0\n",
      "118           40528           40528.0\n",
      "119           58780           58780.0\n",
      "120           83197           66557.6\n",
      "201           34000           34000.0\n",
      "202           45000           45000.0\n",
      "203           54000           54000.0\n"
     ]
    }
   ],
   "source": [
    "# Apply a discount of 20% on car prices above 60000\n",
    "discounted_prices_series = car_prices_series.copy()\n",
    "discounted_prices_series[discounted_prices_series > 60000] *= 0.8\n",
    "\n",
    "# Display the row indexes along with the original and discounted prices\n",
    "result_df = pd.DataFrame({\n",
    "    'Original Price': car_prices_series,\n",
    "    'Discounted Price': discounted_prices_series\n",
    "})\n",
    "\n",
    "print(result_df)"
   ]
  },
  {
   "cell_type": "markdown",
   "id": "3fbdb125",
   "metadata": {},
   "source": [
    "###### task 8"
   ]
  },
  {
   "cell_type": "code",
   "execution_count": 44,
   "id": "6a64fe65",
   "metadata": {},
   "outputs": [
    {
     "name": "stdout",
     "output_type": "stream",
     "text": [
      "Count of cars before updating: 23\n",
      "\n",
      "Updated Car Prices:\n",
      "102    48483\n",
      "103    37077\n",
      "104    30660\n",
      "106    52666\n",
      "108    51036\n",
      "109    55643\n",
      "110    56990\n",
      "111    39967\n",
      "113    51406\n",
      "117    47536\n",
      "118    40528\n",
      "119    58780\n",
      "201    34000\n",
      "202    45000\n",
      "203    54000\n",
      "Name: Car Price, dtype: int64\n",
      "\n",
      "Count of cars after updating: 15\n"
     ]
    }
   ],
   "source": [
    "# Display the count of cars before updating\n",
    "print(\"Count of cars before updating:\", len(car_prices_series))\n",
    "\n",
    "# Apply a discount of 20% on car prices above 60000 and remove sold cars\n",
    "updated_car_prices_series = car_prices_series[car_prices_series <= 60000]\n",
    "\n",
    "# Display the updated data\n",
    "print(\"\\nUpdated Car Prices:\")\n",
    "print(updated_car_prices_series)\n",
    "\n",
    "# Display the count of cars after updating\n",
    "print(\"\\nCount of cars after updating:\", len(updated_car_prices_series))"
   ]
  },
  {
   "cell_type": "code",
   "execution_count": null,
   "id": "49276d7d",
   "metadata": {},
   "outputs": [],
   "source": []
  }
 ],
 "metadata": {
  "kernelspec": {
   "display_name": "Python 3 (ipykernel)",
   "language": "python",
   "name": "python3"
  },
  "language_info": {
   "codemirror_mode": {
    "name": "ipython",
    "version": 3
   },
   "file_extension": ".py",
   "mimetype": "text/x-python",
   "name": "python",
   "nbconvert_exporter": "python",
   "pygments_lexer": "ipython3",
   "version": "3.11.5"
  }
 },
 "nbformat": 4,
 "nbformat_minor": 5
}
