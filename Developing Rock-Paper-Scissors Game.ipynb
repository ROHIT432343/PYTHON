{
 "cells": [
  {
   "cell_type": "markdown",
   "id": "19f57b1e",
   "metadata": {},
   "source": [
    "# task 1"
   ]
  },
  {
   "cell_type": "code",
   "execution_count": null,
   "id": "a875c721",
   "metadata": {},
   "outputs": [],
   "source": [
    "#Accept an integer from the user.\n",
    "year= int(input( \"enter a year between 1900 and 2100:\"))\n",
    "#check if the year is with in the range\n",
    "year>=1900 and year<=2100\n",
    "if year%4==0 and year%100==0 or year%400==0:\n",
    "    print( \"year\",\"is a leap year\")\n",
    "else:\n",
    "    print(\"year:\",\"is not a leap year\")"
   ]
  },
  {
   "cell_type": "markdown",
   "id": "0d6a3eae",
   "metadata": {},
   "source": [
    "# task 2"
   ]
  },
  {
   "cell_type": "code",
   "execution_count": null,
   "id": "755aa235",
   "metadata": {},
   "outputs": [],
   "source": [
    "month_number=int(input(\"enter a number between 1 to 12:\"))\n",
    "# difine a name of month names\n",
    "month_names=[\"january\",\"fabruary\",\"march\",\"april\",\"may\",\"jun\",\"july\",\"august\",\"september\",\"october\",\"november\",\"december\"]\n",
    "# check if the input is with in the valid range\n",
    "if 1<=month_number>=12:\n",
    "    #calculate the number of day in the month\n",
    "    days_in_month=[31,29,31,30,31,30,31,31,30,31,30,31][month_name -1]\n",
    "    print(f\"{month_name[month_number-1]} has {days_in_month} days.\")\n",
    "else:\n",
    "    print(\"error:please enter a number between 1 and 12\")"
   ]
  },
  {
   "cell_type": "markdown",
   "id": "971e019f",
   "metadata": {},
   "source": [
    "# task 4"
   ]
  },
  {
   "cell_type": "code",
   "execution_count": null,
   "id": "0ac6cb9c",
   "metadata": {},
   "outputs": [],
   "source": [
    "total_bill_amount=float(input(\"enter total bill amount:\"))\n",
    "if total_bill_amount<100:\n",
    "    print(\"after_discount:\",\"total_bill_amount\")\n",
    "    discount=0\n",
    "elif total_bill_amount>100 and total_bill_amount<150:\n",
    "    discount=total_bill_amount*.10\n",
    "    print(\"after_discount:\",total_bill_amount*.90)\n",
    "elif total_bill_amount>150 and total_bill_amount<250:\n",
    "    discount=total_bill_amount*.15\n",
    "    print(\"after_discount:\",total_bill_amount*.85)\n",
    "else:\n",
    "    discount=total_bill_amount*.25\n",
    "    print(\"after_discount:\",total_bill_amount*.75)\n",
    "    #culculate the bill amount after the discount\n",
    "bill_after_discount=total_bill_amount-discount\n"
   ]
  },
  {
   "cell_type": "markdown",
   "id": "9a3d6cd7",
   "metadata": {},
   "source": [
    "# task4"
   ]
  },
  {
   "cell_type": "code",
   "execution_count": null,
   "id": "0b710885",
   "metadata": {},
   "outputs": [],
   "source": [
    "player1\n",
    "player2"
   ]
  },
  {
   "cell_type": "code",
   "execution_count": 7,
   "id": "a22ea4e3",
   "metadata": {},
   "outputs": [
    {
     "name": "stdout",
     "output_type": "stream",
     "text": [
      "enter your choicerock\n"
     ]
    },
    {
     "ename": "NameError",
     "evalue": "name 'computer_choice' is not defined",
     "output_type": "error",
     "traceback": [
      "\u001b[1;31m---------------------------------------------------------------------------\u001b[0m",
      "\u001b[1;31mNameError\u001b[0m                                 Traceback (most recent call last)",
      "Cell \u001b[1;32mIn[7], line 5\u001b[0m\n\u001b[0;32m      3\u001b[0m user_choice\u001b[38;5;241m=\u001b[39m\u001b[38;5;28minput\u001b[39m(\u001b[38;5;124m\"\u001b[39m\u001b[38;5;124menter your choice\u001b[39m\u001b[38;5;124m\"\u001b[39m)\n\u001b[0;32m      4\u001b[0m \u001b[38;5;66;03m# determine the winner\u001b[39;00m\n\u001b[1;32m----> 5\u001b[0m \u001b[38;5;28;01mif\u001b[39;00m user_choice\u001b[38;5;241m==\u001b[39m\u001b[38;5;124m\"\u001b[39m\u001b[38;5;124mrock\u001b[39m\u001b[38;5;124m\"\u001b[39m\u001b[38;5;129;01mand\u001b[39;00m computer_choice\u001b[38;5;241m==\u001b[39m\u001b[38;5;124m\"\u001b[39m\u001b[38;5;124mrock\u001b[39m\u001b[38;5;124m\"\u001b[39m:\n\u001b[0;32m      6\u001b[0m     \u001b[38;5;28mprint\u001b[39m(\u001b[38;5;124m\"\u001b[39m\u001b[38;5;124mits a tie\u001b[39m\u001b[38;5;124m\"\u001b[39m)\n\u001b[0;32m      7\u001b[0m \u001b[38;5;28;01melif\u001b[39;00m user_choice\u001b[38;5;241m==\u001b[39m\u001b[38;5;124m\"\u001b[39m\u001b[38;5;124mrock\u001b[39m\u001b[38;5;124m\"\u001b[39m \u001b[38;5;129;01mand\u001b[39;00m computer_choice\u001b[38;5;241m==\u001b[39m\u001b[38;5;124m\"\u001b[39m\u001b[38;5;124mscissors\u001b[39m\u001b[38;5;124m\"\u001b[39m:\n",
      "\u001b[1;31mNameError\u001b[0m: name 'computer_choice' is not defined"
     ]
    }
   ],
   "source": [
    "# create the list of possible choice\n",
    "choices=[\"rock\",\"paper\",\"scissors\"]\n",
    "user_choice=input(\"enter your choice\")\n",
    "# determine the winner\n",
    "if user_choice==\"rock\"and computer_choice==\"rock\":\n",
    "    print(\"its a tie\")\n",
    "elif user_choice==\"rock\" and computer_choice==\"scissors\":\n",
    "    print(\"you win\")\n",
    "elif user_choice==\"paper\"and computer_choice==\"rock\":\n",
    "    print(\"you lose\")\n",
    "elif user_choice==\"scissors\"and computer_choice==\"paper\":\n",
    "    print(\"you lose\")\n",
    "    "
   ]
  },
  {
   "cell_type": "code",
   "execution_count": null,
   "id": "1d634805",
   "metadata": {},
   "outputs": [],
   "source": []
  }
 ],
 "metadata": {
  "kernelspec": {
   "display_name": "Python 3 (ipykernel)",
   "language": "python",
   "name": "python3"
  },
  "language_info": {
   "codemirror_mode": {
    "name": "ipython",
    "version": 3
   },
   "file_extension": ".py",
   "mimetype": "text/x-python",
   "name": "python",
   "nbconvert_exporter": "python",
   "pygments_lexer": "ipython3",
   "version": "3.11.5"
  }
 },
 "nbformat": 4,
 "nbformat_minor": 5
}
