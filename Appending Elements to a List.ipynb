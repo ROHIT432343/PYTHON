{
 "cells": [
  {
   "cell_type": "markdown",
   "id": "94216cbf",
   "metadata": {},
   "source": [
    "###### TASK1"
   ]
  },
  {
   "cell_type": "code",
   "execution_count": 2,
   "id": "4f6b1e46",
   "metadata": {},
   "outputs": [],
   "source": [
    "myname=[\"joe\",\"zoe\",\"world\",\"brad\",\"angelina\",\"world\",\"zuki\",\"tom\",\"paris\",\"world\",\"magic\"]"
   ]
  },
  {
   "cell_type": "code",
   "execution_count": 3,
   "id": "3786bb27",
   "metadata": {},
   "outputs": [
    {
     "name": "stdout",
     "output_type": "stream",
     "text": [
      "false\n"
     ]
    }
   ],
   "source": [
    "if \"USA\" in myname:\n",
    "    print(\"true\")\n",
    "else:\n",
    "    print(\"false\")\n",
    "    "
   ]
  },
  {
   "cell_type": "markdown",
   "id": "5937b4c1",
   "metadata": {},
   "source": [
    "###### task2"
   ]
  },
  {
   "cell_type": "code",
   "execution_count": 4,
   "id": "a8cab3cf",
   "metadata": {},
   "outputs": [
    {
     "data": {
      "text/plain": [
       "11"
      ]
     },
     "execution_count": 4,
     "metadata": {},
     "output_type": "execute_result"
    }
   ],
   "source": [
    "len(myname)"
   ]
  },
  {
   "cell_type": "code",
   "execution_count": 5,
   "id": "f3d0547a",
   "metadata": {},
   "outputs": [
    {
     "name": "stdout",
     "output_type": "stream",
     "text": [
      "3\n"
     ]
    }
   ],
   "source": [
    "count_of_world=myname.count(\"world\")\n",
    "print(count_of_world)"
   ]
  },
  {
   "cell_type": "markdown",
   "id": "0be58cb6",
   "metadata": {},
   "source": [
    "###### task3"
   ]
  },
  {
   "cell_type": "code",
   "execution_count": 6,
   "id": "d17a3830",
   "metadata": {},
   "outputs": [],
   "source": [
    "munlist=list(range(1,30))"
   ]
  },
  {
   "cell_type": "code",
   "execution_count": 7,
   "id": "bd231aba",
   "metadata": {},
   "outputs": [
    {
     "name": "stdout",
     "output_type": "stream",
     "text": [
      "1 3 5 7 9 11 13 15 17 19 21 23 25 27 29 "
     ]
    }
   ],
   "source": [
    "# print of odd number\n",
    "for i in range(1,30,2):\n",
    "    print(i,end=\" \")"
   ]
  },
  {
   "cell_type": "code",
   "execution_count": null,
   "id": "442017eb",
   "metadata": {},
   "outputs": [],
   "source": [
    "# print of even number\n",
    "for i in range(2,30,2):\n",
    "    print(i,end=\" \")"
   ]
  },
  {
   "cell_type": "markdown",
   "id": "3a5a246a",
   "metadata": {},
   "source": [
    "###### task4"
   ]
  },
  {
   "cell_type": "code",
   "execution_count": null,
   "id": "8fef51c1",
   "metadata": {},
   "outputs": [],
   "source": [
    "for i in range(2,30,2):\n",
    "    print(i,end=\" \")"
   ]
  },
  {
   "cell_type": "code",
   "execution_count": null,
   "id": "43737ba3",
   "metadata": {},
   "outputs": [],
   "source": [
    "even_numbers=[]\n",
    "for i in range(2,30):\n",
    "    if i%2==0:\n",
    "        even_numbers.append(i)                                                                            \n",
    "        if len(even_numbers)==5:\n",
    "            break\n",
    "print(\"5 even number:\",even_numbers)\n",
    " \n",
    "\n",
    "    "
   ]
  },
  {
   "cell_type": "markdown",
   "id": "3937aed4",
   "metadata": {},
   "source": [
    "##### task5"
   ]
  },
  {
   "cell_type": "code",
   "execution_count": null,
   "id": "2368e252",
   "metadata": {},
   "outputs": [],
   "source": [
    "last_two_odd_numbers=[]\n",
    "for number in range(1,30):\n",
    "    if number % 2 != 0:\n",
    "     last_two_odd_numbers.append(number)\n",
    "    if len(last_two_odd_numbers)==-2:\n",
    "        break\n",
    "print(last_two_odd_numbers)\n",
    "    "
   ]
  },
  {
   "cell_type": "markdown",
   "id": "19455ca4",
   "metadata": {},
   "source": [
    "###### task 6"
   ]
  },
  {
   "cell_type": "code",
   "execution_count": null,
   "id": "9e80b270",
   "metadata": {},
   "outputs": [],
   "source": [
    "# create list x and y\n",
    "x= []\n",
    "y= []\n",
    "# accapt 5 string from the user and store them in list x\n",
    "for i in range(5):\n",
    "    string_input=input(\"enter a string:\")\n",
    "    x.append(string_input)\n",
    "# accept 3 numbers from the user and store them in list y\n",
    "for i in range(3):\n",
    "    number_input=input(\"enter a number:\")\n",
    "    y.append(number_input)\n",
    "x.extend(y) \n",
    "print(\"combined list(x+y):\",x)"
   ]
  },
  {
   "cell_type": "markdown",
   "id": "14691a99",
   "metadata": {},
   "source": [
    "###### task 7"
   ]
  },
  {
   "cell_type": "code",
   "execution_count": null,
   "id": "09fba0e1",
   "metadata": {},
   "outputs": [],
   "source": [
    "# list_a= square of all the number from 1 to 10\n",
    "# list_b= square of all the number from 30 to 40\n",
    "list_a=[i**2 for i in range(1,11)]\n",
    "print(list_a)\n",
    "list_b=[i**2 for i in range(30,41)]\n",
    "print(list_b)\n",
    "    "
   ]
  },
  {
   "cell_type": "markdown",
   "id": "69b7e6ec",
   "metadata": {},
   "source": [
    "###### task 8"
   ]
  },
  {
   "cell_type": "code",
   "execution_count": null,
   "id": "5ebcc3d5",
   "metadata": {},
   "outputs": [],
   "source": [
    "for i in range(1,51):\n",
    "    if i%5==0:\n",
    "        print(i,end=\" \")"
   ]
  },
  {
   "cell_type": "code",
   "execution_count": null,
   "id": "05b1b3f1",
   "metadata": {},
   "outputs": [],
   "source": [
    "x=15\n",
    "if x>8 and x<=15:\n",
    "    print(\"pass\",end=\" \")\n",
    "    print(\"fail\")"
   ]
  },
  {
   "cell_type": "code",
   "execution_count": null,
   "id": "7775f923",
   "metadata": {},
   "outputs": [],
   "source": [
    "x=8\n",
    "if (x>8 or x==4) and x!=12:\n",
    "    print(\"pass\")"
   ]
  },
  {
   "cell_type": "code",
   "execution_count": null,
   "id": "a97b9200",
   "metadata": {},
   "outputs": [],
   "source": [
    "'a'+'b' if '20'"
   ]
  },
  {
   "cell_type": "code",
   "execution_count": null,
   "id": "7c86d104",
   "metadata": {},
   "outputs": [],
   "source": [
    "a=15\n",
    "b=6\n",
    "c=27\n",
    "d=8\n",
    "if a>b:\n",
    "    if c>a:\n",
    "        if d<c:\n",
    "            print(\"hello\")\n",
    "        else:\n",
    "            print(\"bye\")\n",
    "    else:\n",
    "        print(\"come\")\n",
    "print(\"what\")        "
   ]
  },
  {
   "cell_type": "code",
   "execution_count": 7,
   "id": "7c57f671",
   "metadata": {},
   "outputs": [
    {
     "ename": "MemoryError",
     "evalue": "",
     "output_type": "error",
     "traceback": [
      "\u001b[1;31m---------------------------------------------------------------------------\u001b[0m",
      "\u001b[1;31mMemoryError\u001b[0m                               Traceback (most recent call last)",
      "Cell \u001b[1;32mIn[7], line 3\u001b[0m\n\u001b[0;32m      1\u001b[0m mylist\u001b[38;5;241m=\u001b[39m[\u001b[38;5;124m'\u001b[39m\u001b[38;5;124ma\u001b[39m\u001b[38;5;124m'\u001b[39m,\u001b[38;5;124m'\u001b[39m\u001b[38;5;124mb\u001b[39m\u001b[38;5;124m'\u001b[39m,\u001b[38;5;124m'\u001b[39m\u001b[38;5;124mc\u001b[39m\u001b[38;5;124m'\u001b[39m]\n\u001b[0;32m      2\u001b[0m \u001b[38;5;28;01mfor\u001b[39;00m i \u001b[38;5;129;01min\u001b[39;00m mylist:\n\u001b[1;32m----> 3\u001b[0m     mylist\u001b[38;5;241m.\u001b[39mappend(\u001b[38;5;28mtype\u001b[39m(i))\n\u001b[0;32m      4\u001b[0m \u001b[38;5;28mprint\u001b[39m(mylist)\n",
      "\u001b[1;31mMemoryError\u001b[0m: "
     ]
    }
   ],
   "source": [
    "mylist=['a','b','c']\n",
    "for i in mylist:\n",
    "    mylist.append(type(i))\n",
    "print(mylist)    "
   ]
  },
  {
   "cell_type": "code",
   "execution_count": 6,
   "id": "2abf0736",
   "metadata": {},
   "outputs": [
    {
     "name": "stdout",
     "output_type": "stream",
     "text": [
      "e\n",
      "16\n"
     ]
    }
   ],
   "source": [
    "a=[\"hello\",[4,8,12,16]]\n",
    "print(a[0][1])\n",
    "print(a[1][3])"
   ]
  },
  {
   "cell_type": "code",
   "execution_count": 1,
   "id": "98016cec",
   "metadata": {},
   "outputs": [
    {
     "name": "stdout",
     "output_type": "stream",
     "text": [
      "21\n"
     ]
    }
   ],
   "source": [
    "list1=[1,3,5,2,4,6,2]\n",
    "list1.remove(2)\n",
    "print(sum(list1))"
   ]
  },
  {
   "cell_type": "code",
   "execution_count": 2,
   "id": "7226f74a",
   "metadata": {},
   "outputs": [
    {
     "name": "stdout",
     "output_type": "stream",
     "text": [
      "True\n"
     ]
    }
   ],
   "source": [
    "print(type([]) is list)"
   ]
  },
  {
   "cell_type": "code",
   "execution_count": 3,
   "id": "51b83efe",
   "metadata": {},
   "outputs": [
    {
     "name": "stdout",
     "output_type": "stream",
     "text": [
      "[5, 9, 0, 8]\n"
     ]
    }
   ],
   "source": [
    "list1=[8,0,9,5]\n",
    "print(list1[::-1])"
   ]
  },
  {
   "cell_type": "code",
   "execution_count": 4,
   "id": "1e41990e",
   "metadata": {},
   "outputs": [
    {
     "name": "stdout",
     "output_type": "stream",
     "text": [
      "None\n",
      "['a', 'b', 'c', 'd', 'e', 'f', 'g']\n",
      "['e', 'f', 'g']\n"
     ]
    }
   ],
   "source": [
    "listone=['a','b','c','d']\n",
    "listtwo=['e','f','g']\n",
    "newlist=listone.extend(listtwo)\n",
    "print(newlist)\n",
    "print(listone)\n",
    "print(listtwo)"
   ]
  },
  {
   "cell_type": "code",
   "execution_count": 5,
   "id": "413ee1e7",
   "metadata": {},
   "outputs": [
    {
     "name": "stdout",
     "output_type": "stream",
     "text": [
      "d\n",
      "c\n",
      "b\n",
      "a\n"
     ]
    }
   ],
   "source": [
    "for i in 'abcd'[::-1]:\n",
    "    print(i)"
   ]
  },
  {
   "cell_type": "code",
   "execution_count": null,
   "id": "52282559",
   "metadata": {},
   "outputs": [],
   "source": []
  }
 ],
 "metadata": {
  "kernelspec": {
   "display_name": "Python 3 (ipykernel)",
   "language": "python",
   "name": "python3"
  },
  "language_info": {
   "codemirror_mode": {
    "name": "ipython",
    "version": 3
   },
   "file_extension": ".py",
   "mimetype": "text/x-python",
   "name": "python",
   "nbconvert_exporter": "python",
   "pygments_lexer": "ipython3",
   "version": "3.11.5"
  }
 },
 "nbformat": 4,
 "nbformat_minor": 5
}
