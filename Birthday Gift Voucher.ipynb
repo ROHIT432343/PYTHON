{
 "cells": [
  {
   "cell_type": "code",
   "execution_count": 1,
   "id": "bfb8d731",
   "metadata": {},
   "outputs": [
    {
     "name": "stdout",
     "output_type": "stream",
     "text": [
      "Dear rick jone,\n",
      "Wish you a happy birthday! On behalf of your birthday and the upcoming holiday, we offer you a gift voucher valued 250$\n",
      "Dear justin lake,\n",
      "Wish you a happy birthday! On behalf of your birthday, we offer you a gift voucher valued 100$\n"
     ]
    }
   ],
   "source": [
    "# Function to determine the birthday and holiday voucher\n",
    "def birthday_holiday_voucher(emp_details):\n",
    "    holiday_vouchers = {\n",
    "        \"12-25\": 150,\n",
    "        \"11-11\": 100,\n",
    "        \"7-4\": 50\n",
    "    }\n",
    "\n",
    "    for employee, dob in emp_details.items():\n",
    "        name, birth_date = employee, dob\n",
    "        birth_month = birth_date.split('-')[0]\n",
    "\n",
    "        combined_voucher = 0\n",
    "\n",
    "        # Check if the birthday month coincides with any federal holiday month\n",
    "        for holiday, amount in holiday_vouchers.items():\n",
    "            holiday_month = holiday.split('-')[0]\n",
    "            if birth_month == holiday_month:\n",
    "                combined_voucher = 100 + amount\n",
    "                break\n",
    "\n",
    "        if combined_voucher > 0:\n",
    "            print(f\"Dear {name},\\nWish you a happy birthday! On behalf of your birthday and the upcoming holiday, we offer you a gift voucher valued {combined_voucher}$\")\n",
    "        else:\n",
    "            print(f\"Dear {name},\\nWish you a happy birthday! On behalf of your birthday, we offer you a gift voucher valued 100$\")\n",
    "\n",
    "# Sample input\n",
    "input_details = {\n",
    "    \"rick jone\": \"12-20-1980\",\n",
    "    \"justin lake\": \"04-13-1989\"\n",
    "}\n",
    "# Calling the function with the input details\n",
    "birthday_holiday_voucher(input_details)"
   ]
  },
  {
   "cell_type": "code",
   "execution_count": null,
   "id": "798b4298",
   "metadata": {},
   "outputs": [],
   "source": []
  }
 ],
 "metadata": {
  "kernelspec": {
   "display_name": "Python 3 (ipykernel)",
   "language": "python",
   "name": "python3"
  },
  "language_info": {
   "codemirror_mode": {
    "name": "ipython",
    "version": 3
   },
   "file_extension": ".py",
   "mimetype": "text/x-python",
   "name": "python",
   "nbconvert_exporter": "python",
   "pygments_lexer": "ipython3",
   "version": "3.11.5"
  }
 },
 "nbformat": 4,
 "nbformat_minor": 5
}
