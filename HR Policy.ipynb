{
 "cells": [
  {
   "cell_type": "markdown",
   "id": "2206acb0",
   "metadata": {},
   "source": [
    "##### write an sql query in python to exlrect the country names and the reagion associate with them"
   ]
  },
  {
   "cell_type": "code",
   "execution_count": 1,
   "id": "57552cc4",
   "metadata": {},
   "outputs": [],
   "source": [
    "import mysql.connector as sql"
   ]
  },
  {
   "cell_type": "code",
   "execution_count": 2,
   "id": "7f85eb33",
   "metadata": {},
   "outputs": [],
   "source": [
    "db=sql.connect(host='localhost',user='root',password='rohit123',database='hr')"
   ]
  },
  {
   "cell_type": "code",
   "execution_count": 3,
   "id": "3a6e3502",
   "metadata": {},
   "outputs": [
    {
     "data": {
      "text/plain": [
       "<mysql.connector.connection_cext.CMySQLConnection at 0x1dc79b45c10>"
      ]
     },
     "execution_count": 3,
     "metadata": {},
     "output_type": "execute_result"
    }
   ],
   "source": [
    "db"
   ]
  },
  {
   "cell_type": "code",
   "execution_count": 4,
   "id": "cfba1b22",
   "metadata": {},
   "outputs": [],
   "source": [
    "import mysql.connector as c \n",
    "db=c.connect(host='localhost',user='root',password='rohit123',database='hr')\n",
    "mycursor=db.cursor()"
   ]
  },
  {
   "cell_type": "code",
   "execution_count": 5,
   "id": "d1fbc7e0",
   "metadata": {},
   "outputs": [],
   "source": [
    "innerjoin=\"select country_name,region_name from hr.countries inner join hr.regions on countries.region_id=regions.region_id;\""
   ]
  },
  {
   "cell_type": "code",
   "execution_count": 6,
   "id": "a8b70d20",
   "metadata": {},
   "outputs": [],
   "source": [
    "mycursor.execute(innerjoin)"
   ]
  },
  {
   "cell_type": "code",
   "execution_count": 7,
   "id": "0b78b338",
   "metadata": {},
   "outputs": [
    {
     "name": "stdout",
     "output_type": "stream",
     "text": [
      "('Belgium', 'Europe')\n",
      "('Switzerland', 'Europe')\n",
      "('Germany', 'Europe')\n",
      "('Denmark', 'Europe')\n",
      "('France', 'Europe')\n",
      "('Italy', 'Europe')\n",
      "('Netherlands', 'Europe')\n",
      "('United Kingdom', 'Europe')\n",
      "('Argentina', 'Americas')\n",
      "('Brazil', 'Americas')\n",
      "('Canada', 'Americas')\n",
      "('Mexico', 'Americas')\n",
      "('United States of America', 'Americas')\n",
      "('Australia', 'Asia')\n",
      "('China', 'Asia')\n",
      "('HongKong', 'Asia')\n",
      "('India', 'Asia')\n",
      "('Japan', 'Asia')\n",
      "('Singapore', 'Asia')\n",
      "('Egypt', 'Middle East and Africa')\n",
      "('Israel', 'Middle East and Africa')\n",
      "('Kuwait', 'Middle East and Africa')\n",
      "('Nigeria', 'Middle East and Africa')\n",
      "('Zambia', 'Middle East and Africa')\n",
      "('Zimbabwe', 'Middle East and Africa')\n"
     ]
    }
   ],
   "source": [
    "for row in mycursor:\n",
    "    print(row)"
   ]
  },
  {
   "cell_type": "markdown",
   "id": "a009f77c",
   "metadata": {},
   "source": [
    "##### task 2"
   ]
  },
  {
   "cell_type": "code",
   "execution_count": 59,
   "id": "8bccaa13",
   "metadata": {},
   "outputs": [],
   "source": [
    "query=(\"select country_name,count(employee_id) from countries inner join locations inner join departments inner join employees on countries.country_id=locations.country_id and locations.location_id=departments.location_id and departments.department_id=employees.department_id group by country_name\")\n",
    "mycursor.execute(query)"
   ]
  },
  {
   "cell_type": "code",
   "execution_count": 60,
   "id": "aa520090",
   "metadata": {},
   "outputs": [],
   "source": [
    "employee_detail=mycursor.fetchall()"
   ]
  },
  {
   "cell_type": "code",
   "execution_count": 61,
   "id": "4ef084c9",
   "metadata": {},
   "outputs": [
    {
     "data": {
      "text/plain": [
       "[('United States of America', 68),\n",
       " ('Canada', 2),\n",
       " ('United Kingdom', 35),\n",
       " ('Germany', 1)]"
      ]
     },
     "execution_count": 61,
     "metadata": {},
     "output_type": "execute_result"
    }
   ],
   "source": [
    "employee_detail"
   ]
  },
  {
   "cell_type": "code",
   "execution_count": 62,
   "id": "dd1eb386",
   "metadata": {},
   "outputs": [],
   "source": [
    "import pandas as pd"
   ]
  },
  {
   "cell_type": "code",
   "execution_count": 64,
   "id": "f19e2aaf",
   "metadata": {},
   "outputs": [
    {
     "data": {
      "text/html": [
       "<div>\n",
       "<style scoped>\n",
       "    .dataframe tbody tr th:only-of-type {\n",
       "        vertical-align: middle;\n",
       "    }\n",
       "\n",
       "    .dataframe tbody tr th {\n",
       "        vertical-align: top;\n",
       "    }\n",
       "\n",
       "    .dataframe thead th {\n",
       "        text-align: right;\n",
       "    }\n",
       "</style>\n",
       "<table border=\"1\" class=\"dataframe\">\n",
       "  <thead>\n",
       "    <tr style=\"text-align: right;\">\n",
       "      <th></th>\n",
       "      <th>country_name</th>\n",
       "      <th>employee column</th>\n",
       "    </tr>\n",
       "  </thead>\n",
       "  <tbody>\n",
       "    <tr>\n",
       "      <th>0</th>\n",
       "      <td>United States of America</td>\n",
       "      <td>68</td>\n",
       "    </tr>\n",
       "    <tr>\n",
       "      <th>1</th>\n",
       "      <td>Canada</td>\n",
       "      <td>2</td>\n",
       "    </tr>\n",
       "    <tr>\n",
       "      <th>2</th>\n",
       "      <td>United Kingdom</td>\n",
       "      <td>35</td>\n",
       "    </tr>\n",
       "    <tr>\n",
       "      <th>3</th>\n",
       "      <td>Germany</td>\n",
       "      <td>1</td>\n",
       "    </tr>\n",
       "  </tbody>\n",
       "</table>\n",
       "</div>"
      ],
      "text/plain": [
       "               country_name  employee column\n",
       "0  United States of America               68\n",
       "1                    Canada                2\n",
       "2            United Kingdom               35\n",
       "3                   Germany                1"
      ]
     },
     "execution_count": 64,
     "metadata": {},
     "output_type": "execute_result"
    }
   ],
   "source": [
    "df_emp=pd.DataFrame(employee_detail,columns=['country_name','employee column'])\n",
    "df_emp"
   ]
  },
  {
   "cell_type": "code",
   "execution_count": 26,
   "id": "70a8d282",
   "metadata": {},
   "outputs": [],
   "source": [
    "import pandas as pd\n",
    "from sqlalchemy import create_engine"
   ]
  },
  {
   "cell_type": "code",
   "execution_count": 30,
   "id": "f8dab277",
   "metadata": {},
   "outputs": [
    {
     "name": "stdout",
     "output_type": "stream",
     "text": [
      "Collecting pymysql\n",
      "  Obtaining dependency information for pymysql from https://files.pythonhosted.org/packages/e5/30/20467e39523d0cfc2b6227902d3687a16364307260c75e6a1cb4422b0c62/PyMySQL-1.1.0-py3-none-any.whl.metadata\n",
      "  Downloading PyMySQL-1.1.0-py3-none-any.whl.metadata (4.4 kB)\n",
      "Downloading PyMySQL-1.1.0-py3-none-any.whl (44 kB)\n",
      "   ---------------------------------------- 0.0/44.8 kB ? eta -:--:--\n",
      "   ---------------------------------------- 0.0/44.8 kB ? eta -:--:--\n",
      "   --------- ------------------------------ 10.2/44.8 kB ? eta -:--:--\n",
      "   ------------------ --------------------- 20.5/44.8 kB 165.2 kB/s eta 0:00:01\n",
      "   ------------------------------------ --- 41.0/44.8 kB 245.8 kB/s eta 0:00:01\n",
      "   ---------------------------------------- 44.8/44.8 kB 221.3 kB/s eta 0:00:00\n",
      "Installing collected packages: pymysql\n",
      "Successfully installed pymysql-1.1.0\n",
      "Note: you may need to restart the kernel to use updated packages.\n"
     ]
    }
   ],
   "source": [
    "pip install pymysql"
   ]
  },
  {
   "cell_type": "code",
   "execution_count": 31,
   "id": "db6d42e8",
   "metadata": {},
   "outputs": [],
   "source": [
    "engine=create_engine(\"mysql+pymysql://{user}:{pw}@{host}/{db}\"\n",
    ".format(host='localhost',db='hr',user='root',pw='rohit123'))"
   ]
  },
  {
   "cell_type": "code",
   "execution_count": 32,
   "id": "6191402d",
   "metadata": {},
   "outputs": [
    {
     "data": {
      "text/plain": [
       "4"
      ]
     },
     "execution_count": 32,
     "metadata": {},
     "output_type": "execute_result"
    }
   ],
   "source": [
    "df_emp.to_sql('employee_count',engine,index=False)"
   ]
  },
  {
   "cell_type": "code",
   "execution_count": 33,
   "id": "f011f1bf",
   "metadata": {},
   "outputs": [],
   "source": [
    "import mysql.connector as sql \n",
    "db=sql.connect(host='localhost',user='root',password='rohit123',database='hr')\n",
    "mycursor=db.cursor()"
   ]
  },
  {
   "cell_type": "code",
   "execution_count": 41,
   "id": "af030d13",
   "metadata": {},
   "outputs": [
    {
     "name": "stdout",
     "output_type": "stream",
     "text": [
      "('United States of America', 68)\n",
      "('Canada', 2)\n",
      "('United Kingdom', 35)\n",
      "('Germany', 1)\n"
     ]
    }
   ],
   "source": [
    "mycursor.execute(\"select * from  employee_count\")\n",
    "a=mycursor.fetchall\n",
    "a\n",
    "for i in mycursor:\n",
    "    print(i)"
   ]
  },
  {
   "cell_type": "markdown",
   "id": "89c09f5e",
   "metadata": {},
   "source": [
    "###### task 3"
   ]
  },
  {
   "cell_type": "code",
   "execution_count": 45,
   "id": "eba4d01b",
   "metadata": {},
   "outputs": [
    {
     "data": {
      "text/plain": [
       "[('United States of America', 'Southlake', 5),\n",
       " ('United States of America', 'South San Francisco', 45),\n",
       " ('United States of America', 'Seattle', 18),\n",
       " ('Canada', 'Toronto', 2),\n",
       " ('United Kingdom', 'London', 1),\n",
       " ('United Kingdom', 'Oxford', 34),\n",
       " ('Germany', 'Munich', 1)]"
      ]
     },
     "execution_count": 45,
     "metadata": {},
     "output_type": "execute_result"
    }
   ],
   "source": [
    "mycursor.execute(\"select country_name,city,count(employee_id) from countries inner join locations inner join departments inner join employees on countries.country_id=locations.country_id and locations.location_id=departments.location_id and departments.department_id=employees.department_id group by country_name,locations.city\")\n",
    "emp=mycursor.fetchall()\n",
    "emp"
   ]
  },
  {
   "cell_type": "code",
   "execution_count": 48,
   "id": "ed2bae08",
   "metadata": {},
   "outputs": [
    {
     "data": {
      "text/html": [
       "<div>\n",
       "<style scoped>\n",
       "    .dataframe tbody tr th:only-of-type {\n",
       "        vertical-align: middle;\n",
       "    }\n",
       "\n",
       "    .dataframe tbody tr th {\n",
       "        vertical-align: top;\n",
       "    }\n",
       "\n",
       "    .dataframe thead th {\n",
       "        text-align: right;\n",
       "    }\n",
       "</style>\n",
       "<table border=\"1\" class=\"dataframe\">\n",
       "  <thead>\n",
       "    <tr style=\"text-align: right;\">\n",
       "      <th></th>\n",
       "      <th>country_name</th>\n",
       "      <th>city</th>\n",
       "      <th>employee_count</th>\n",
       "    </tr>\n",
       "  </thead>\n",
       "  <tbody>\n",
       "    <tr>\n",
       "      <th>0</th>\n",
       "      <td>United States of America</td>\n",
       "      <td>Southlake</td>\n",
       "      <td>5</td>\n",
       "    </tr>\n",
       "    <tr>\n",
       "      <th>1</th>\n",
       "      <td>United States of America</td>\n",
       "      <td>South San Francisco</td>\n",
       "      <td>45</td>\n",
       "    </tr>\n",
       "    <tr>\n",
       "      <th>2</th>\n",
       "      <td>United States of America</td>\n",
       "      <td>Seattle</td>\n",
       "      <td>18</td>\n",
       "    </tr>\n",
       "    <tr>\n",
       "      <th>3</th>\n",
       "      <td>Canada</td>\n",
       "      <td>Toronto</td>\n",
       "      <td>2</td>\n",
       "    </tr>\n",
       "    <tr>\n",
       "      <th>4</th>\n",
       "      <td>United Kingdom</td>\n",
       "      <td>London</td>\n",
       "      <td>1</td>\n",
       "    </tr>\n",
       "    <tr>\n",
       "      <th>5</th>\n",
       "      <td>United Kingdom</td>\n",
       "      <td>Oxford</td>\n",
       "      <td>34</td>\n",
       "    </tr>\n",
       "    <tr>\n",
       "      <th>6</th>\n",
       "      <td>Germany</td>\n",
       "      <td>Munich</td>\n",
       "      <td>1</td>\n",
       "    </tr>\n",
       "  </tbody>\n",
       "</table>\n",
       "</div>"
      ],
      "text/plain": [
       "               country_name                 city  employee_count\n",
       "0  United States of America            Southlake               5\n",
       "1  United States of America  South San Francisco              45\n",
       "2  United States of America              Seattle              18\n",
       "3                    Canada              Toronto               2\n",
       "4            United Kingdom               London               1\n",
       "5            United Kingdom               Oxford              34\n",
       "6                   Germany               Munich               1"
      ]
     },
     "execution_count": 48,
     "metadata": {},
     "output_type": "execute_result"
    }
   ],
   "source": [
    "df_emp1=pd.DataFrame(emp,columns=['country_name','city','employee_count'])\n",
    "df_emp1.to_csv('employee count city and country wise')\n",
    "df_emp1"
   ]
  },
  {
   "cell_type": "code",
   "execution_count": 49,
   "id": "a7e041e1",
   "metadata": {},
   "outputs": [],
   "source": [
    "df_emp1.sort_values(['employee_count'],ascending=True,inplace=True)\n"
   ]
  },
  {
   "cell_type": "code",
   "execution_count": 52,
   "id": "ec4eb071",
   "metadata": {},
   "outputs": [],
   "source": [
    "import matplotlib.pyplot as plt"
   ]
  },
  {
   "cell_type": "code",
   "execution_count": 53,
   "id": "8799604e",
   "metadata": {},
   "outputs": [
    {
     "data": {
      "image/png": "[encoded data removed]",
      "text/plain": [
       "<Figure size 640x480 with 1 Axes>"
      ]
     },
     "metadata": {},
     "output_type": "display_data"
    }
   ],
   "source": [
    "plt.barh(df_emp1.city,df_emp1.employee_count)\n",
    "plt.title('employee count city wise')\n",
    "plt.xlabel('employee_count')\n",
    "plt.ylabel('city')\n",
    "plt.show()"
   ]
  },
  {
   "cell_type": "code",
   "execution_count": null,
   "id": "4dc85d9d",
   "metadata": {},
   "outputs": [],
   "source": []
  }
 ],
 "metadata": {
  "kernelspec": {
   "display_name": "Python 3 (ipykernel)",
   "language": "python",
   "name": "python3"
  },
  "language_info": {
   "codemirror_mode": {
    "name": "ipython",
    "version": 3
   },
   "file_extension": ".py",
   "mimetype": "text/x-python",
   "name": "python",
   "nbconvert_exporter": "python",
   "pygments_lexer": "ipython3",
   "version": "3.11.5"
  }
 },
 "nbformat": 4,
 "nbformat_minor": 5
}
