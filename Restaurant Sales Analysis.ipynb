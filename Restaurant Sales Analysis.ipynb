{
 "cells": [
  {
   "cell_type": "markdown",
   "id": "7a6620d7",
   "metadata": {},
   "source": [
    "###### task 1"
   ]
  },
  {
   "cell_type": "code",
   "execution_count": 2,
   "id": "b21d27bb",
   "metadata": {},
   "outputs": [],
   "source": [
    "# short the data in ascending order of sales and display the result\n",
    "import pandas as pd"
   ]
  },
  {
   "cell_type": "code",
   "execution_count": 8,
   "id": "b79850ac",
   "metadata": {},
   "outputs": [],
   "source": [
    "sales_data= pd.read_csv('DS1_C4_S3_SalesData_Practice.csv')"
   ]
  },
  {
   "cell_type": "code",
   "execution_count": 14,
   "id": "927f9588",
   "metadata": {},
   "outputs": [
    {
     "data": {
      "text/html": [
       "<div>\n",
       "<style scoped>\n",
       "    .dataframe tbody tr th:only-of-type {\n",
       "        vertical-align: middle;\n",
       "    }\n",
       "\n",
       "    .dataframe tbody tr th {\n",
       "        vertical-align: top;\n",
       "    }\n",
       "\n",
       "    .dataframe thead th {\n",
       "        text-align: right;\n",
       "    }\n",
       "</style>\n",
       "<table border=\"1\" class=\"dataframe\">\n",
       "  <thead>\n",
       "    <tr style=\"text-align: right;\">\n",
       "      <th></th>\n",
       "      <th>Month</th>\n",
       "      <th>Store</th>\n",
       "      <th>Sales</th>\n",
       "      <th>State</th>\n",
       "    </tr>\n",
       "  </thead>\n",
       "  <tbody>\n",
       "    <tr>\n",
       "      <th>0</th>\n",
       "      <td>Jan</td>\n",
       "      <td>A</td>\n",
       "      <td>21080</td>\n",
       "      <td>Alaska</td>\n",
       "    </tr>\n",
       "    <tr>\n",
       "      <th>13</th>\n",
       "      <td>Mar</td>\n",
       "      <td>D</td>\n",
       "      <td>21357</td>\n",
       "      <td>Montana</td>\n",
       "    </tr>\n",
       "    <tr>\n",
       "      <th>18</th>\n",
       "      <td>Apr</td>\n",
       "      <td>D</td>\n",
       "      <td>21394</td>\n",
       "      <td>Montana</td>\n",
       "    </tr>\n",
       "    <tr>\n",
       "      <th>14</th>\n",
       "      <td>Mar</td>\n",
       "      <td>E</td>\n",
       "      <td>22130</td>\n",
       "      <td>New Mexico</td>\n",
       "    </tr>\n",
       "    <tr>\n",
       "      <th>2</th>\n",
       "      <td>Jan</td>\n",
       "      <td>C</td>\n",
       "      <td>22369</td>\n",
       "      <td>California</td>\n",
       "    </tr>\n",
       "    <tr>\n",
       "      <th>24</th>\n",
       "      <td>May</td>\n",
       "      <td>E</td>\n",
       "      <td>22541</td>\n",
       "      <td>New Mexico</td>\n",
       "    </tr>\n",
       "    <tr>\n",
       "      <th>12</th>\n",
       "      <td>Mar</td>\n",
       "      <td>C</td>\n",
       "      <td>23475</td>\n",
       "      <td>California</td>\n",
       "    </tr>\n",
       "    <tr>\n",
       "      <th>9</th>\n",
       "      <td>Feb</td>\n",
       "      <td>E</td>\n",
       "      <td>23851</td>\n",
       "      <td>New Mexico</td>\n",
       "    </tr>\n",
       "    <tr>\n",
       "      <th>19</th>\n",
       "      <td>Apr</td>\n",
       "      <td>E</td>\n",
       "      <td>25184</td>\n",
       "      <td>New Mexico</td>\n",
       "    </tr>\n",
       "    <tr>\n",
       "      <th>15</th>\n",
       "      <td>Apr</td>\n",
       "      <td>A</td>\n",
       "      <td>26073</td>\n",
       "      <td>Alaska</td>\n",
       "    </tr>\n",
       "    <tr>\n",
       "      <th>4</th>\n",
       "      <td>Jan</td>\n",
       "      <td>E</td>\n",
       "      <td>27113</td>\n",
       "      <td>New Mexico</td>\n",
       "    </tr>\n",
       "    <tr>\n",
       "      <th>11</th>\n",
       "      <td>Mar</td>\n",
       "      <td>B</td>\n",
       "      <td>27215</td>\n",
       "      <td>Texas</td>\n",
       "    </tr>\n",
       "    <tr>\n",
       "      <th>5</th>\n",
       "      <td>Feb</td>\n",
       "      <td>A</td>\n",
       "      <td>27573</td>\n",
       "      <td>Alaska</td>\n",
       "    </tr>\n",
       "    <tr>\n",
       "      <th>25</th>\n",
       "      <td>Jun</td>\n",
       "      <td>A</td>\n",
       "      <td>28500</td>\n",
       "      <td>Alaska</td>\n",
       "    </tr>\n",
       "    <tr>\n",
       "      <th>23</th>\n",
       "      <td>May</td>\n",
       "      <td>D</td>\n",
       "      <td>28943</td>\n",
       "      <td>Montana</td>\n",
       "    </tr>\n",
       "    <tr>\n",
       "      <th>22</th>\n",
       "      <td>May</td>\n",
       "      <td>C</td>\n",
       "      <td>29697</td>\n",
       "      <td>California</td>\n",
       "    </tr>\n",
       "    <tr>\n",
       "      <th>27</th>\n",
       "      <td>Jun</td>\n",
       "      <td>C</td>\n",
       "      <td>30200</td>\n",
       "      <td>California</td>\n",
       "    </tr>\n",
       "    <tr>\n",
       "      <th>17</th>\n",
       "      <td>Apr</td>\n",
       "      <td>C</td>\n",
       "      <td>30279</td>\n",
       "      <td>California</td>\n",
       "    </tr>\n",
       "    <tr>\n",
       "      <th>6</th>\n",
       "      <td>Feb</td>\n",
       "      <td>B</td>\n",
       "      <td>31244</td>\n",
       "      <td>Texas</td>\n",
       "    </tr>\n",
       "    <tr>\n",
       "      <th>8</th>\n",
       "      <td>Feb</td>\n",
       "      <td>D</td>\n",
       "      <td>31768</td>\n",
       "      <td>Montana</td>\n",
       "    </tr>\n",
       "    <tr>\n",
       "      <th>26</th>\n",
       "      <td>Jun</td>\n",
       "      <td>B</td>\n",
       "      <td>32896</td>\n",
       "      <td>Texas</td>\n",
       "    </tr>\n",
       "    <tr>\n",
       "      <th>1</th>\n",
       "      <td>Jan</td>\n",
       "      <td>B</td>\n",
       "      <td>32985</td>\n",
       "      <td>Texas</td>\n",
       "    </tr>\n",
       "    <tr>\n",
       "      <th>10</th>\n",
       "      <td>Mar</td>\n",
       "      <td>A</td>\n",
       "      <td>33274</td>\n",
       "      <td>Alaska</td>\n",
       "    </tr>\n",
       "    <tr>\n",
       "      <th>28</th>\n",
       "      <td>Jun</td>\n",
       "      <td>D</td>\n",
       "      <td>37098</td>\n",
       "      <td>Montana</td>\n",
       "    </tr>\n",
       "    <tr>\n",
       "      <th>20</th>\n",
       "      <td>May</td>\n",
       "      <td>A</td>\n",
       "      <td>37649</td>\n",
       "      <td>Alaska</td>\n",
       "    </tr>\n",
       "    <tr>\n",
       "      <th>29</th>\n",
       "      <td>Jun</td>\n",
       "      <td>E</td>\n",
       "      <td>41098</td>\n",
       "      <td>New Mexico</td>\n",
       "    </tr>\n",
       "    <tr>\n",
       "      <th>21</th>\n",
       "      <td>May</td>\n",
       "      <td>B</td>\n",
       "      <td>44597</td>\n",
       "      <td>Texas</td>\n",
       "    </tr>\n",
       "    <tr>\n",
       "      <th>3</th>\n",
       "      <td>Jan</td>\n",
       "      <td>D</td>\n",
       "      <td>45710</td>\n",
       "      <td>Montana</td>\n",
       "    </tr>\n",
       "    <tr>\n",
       "      <th>16</th>\n",
       "      <td>Apr</td>\n",
       "      <td>B</td>\n",
       "      <td>45919</td>\n",
       "      <td>Texas</td>\n",
       "    </tr>\n",
       "    <tr>\n",
       "      <th>7</th>\n",
       "      <td>Feb</td>\n",
       "      <td>C</td>\n",
       "      <td>48624</td>\n",
       "      <td>California</td>\n",
       "    </tr>\n",
       "  </tbody>\n",
       "</table>\n",
       "</div>"
      ],
      "text/plain": [
       "   Month Store  Sales       State\n",
       "0    Jan     A  21080      Alaska\n",
       "13   Mar     D  21357     Montana\n",
       "18   Apr     D  21394     Montana\n",
       "14   Mar     E  22130  New Mexico\n",
       "2    Jan     C  22369  California\n",
       "24   May     E  22541  New Mexico\n",
       "12   Mar     C  23475  California\n",
       "9    Feb     E  23851  New Mexico\n",
       "19   Apr     E  25184  New Mexico\n",
       "15   Apr     A  26073      Alaska\n",
       "4    Jan     E  27113  New Mexico\n",
       "11   Mar     B  27215       Texas\n",
       "5    Feb     A  27573      Alaska\n",
       "25   Jun     A  28500      Alaska\n",
       "23   May     D  28943     Montana\n",
       "22   May     C  29697  California\n",
       "27   Jun     C  30200  California\n",
       "17   Apr     C  30279  California\n",
       "6    Feb     B  31244       Texas\n",
       "8    Feb     D  31768     Montana\n",
       "26   Jun     B  32896       Texas\n",
       "1    Jan     B  32985       Texas\n",
       "10   Mar     A  33274      Alaska\n",
       "28   Jun     D  37098     Montana\n",
       "20   May     A  37649      Alaska\n",
       "29   Jun     E  41098  New Mexico\n",
       "21   May     B  44597       Texas\n",
       "3    Jan     D  45710     Montana\n",
       "16   Apr     B  45919       Texas\n",
       "7    Feb     C  48624  California"
      ]
     },
     "execution_count": 14,
     "metadata": {},
     "output_type": "execute_result"
    }
   ],
   "source": [
    "sales_data.sort_values(by='Sales',ascending=True)"
   ]
  },
  {
   "cell_type": "markdown",
   "id": "b6be0a15",
   "metadata": {},
   "source": [
    "###### task 2"
   ]
  },
  {
   "cell_type": "code",
   "execution_count": 22,
   "id": "e04100d5",
   "metadata": {},
   "outputs": [
    {
     "data": {
      "text/html": [
       "<div>\n",
       "<style scoped>\n",
       "    .dataframe tbody tr th:only-of-type {\n",
       "        vertical-align: middle;\n",
       "    }\n",
       "\n",
       "    .dataframe tbody tr th {\n",
       "        vertical-align: top;\n",
       "    }\n",
       "\n",
       "    .dataframe thead th {\n",
       "        text-align: right;\n",
       "    }\n",
       "</style>\n",
       "<table border=\"1\" class=\"dataframe\">\n",
       "  <thead>\n",
       "    <tr style=\"text-align: right;\">\n",
       "      <th></th>\n",
       "      <th>Month</th>\n",
       "      <th>Store</th>\n",
       "      <th>Sales</th>\n",
       "      <th>State</th>\n",
       "    </tr>\n",
       "  </thead>\n",
       "  <tbody>\n",
       "    <tr>\n",
       "      <th>3</th>\n",
       "      <td>Jan</td>\n",
       "      <td>D</td>\n",
       "      <td>45710</td>\n",
       "      <td>Montana</td>\n",
       "    </tr>\n",
       "    <tr>\n",
       "      <th>7</th>\n",
       "      <td>Feb</td>\n",
       "      <td>C</td>\n",
       "      <td>48624</td>\n",
       "      <td>California</td>\n",
       "    </tr>\n",
       "    <tr>\n",
       "      <th>16</th>\n",
       "      <td>Apr</td>\n",
       "      <td>B</td>\n",
       "      <td>45919</td>\n",
       "      <td>Texas</td>\n",
       "    </tr>\n",
       "  </tbody>\n",
       "</table>\n",
       "</div>"
      ],
      "text/plain": [
       "   Month Store  Sales       State\n",
       "3    Jan     D  45710     Montana\n",
       "7    Feb     C  48624  California\n",
       "16   Apr     B  45919       Texas"
      ]
     },
     "execution_count": 22,
     "metadata": {},
     "output_type": "execute_result"
    }
   ],
   "source": [
    "sales_data[sales_data['Sales']>=45000]"
   ]
  },
  {
   "cell_type": "markdown",
   "id": "497fd960",
   "metadata": {},
   "source": [
    "###### task 3"
   ]
  },
  {
   "cell_type": "code",
   "execution_count": 91,
   "id": "4679ce61",
   "metadata": {},
   "outputs": [],
   "source": [
    " data_california=sales_data.loc[(sales_data['State']=='California')]"
   ]
  },
  {
   "cell_type": "code",
   "execution_count": 92,
   "id": "3d6fff3c",
   "metadata": {},
   "outputs": [
    {
     "data": {
      "text/html": [
       "<div>\n",
       "<style scoped>\n",
       "    .dataframe tbody tr th:only-of-type {\n",
       "        vertical-align: middle;\n",
       "    }\n",
       "\n",
       "    .dataframe tbody tr th {\n",
       "        vertical-align: top;\n",
       "    }\n",
       "\n",
       "    .dataframe thead th {\n",
       "        text-align: right;\n",
       "    }\n",
       "</style>\n",
       "<table border=\"1\" class=\"dataframe\">\n",
       "  <thead>\n",
       "    <tr style=\"text-align: right;\">\n",
       "      <th></th>\n",
       "      <th>Month</th>\n",
       "      <th>Store</th>\n",
       "      <th>Sales</th>\n",
       "      <th>State</th>\n",
       "    </tr>\n",
       "  </thead>\n",
       "  <tbody>\n",
       "    <tr>\n",
       "      <th>2</th>\n",
       "      <td>Jan</td>\n",
       "      <td>C</td>\n",
       "      <td>22369</td>\n",
       "      <td>California</td>\n",
       "    </tr>\n",
       "    <tr>\n",
       "      <th>12</th>\n",
       "      <td>Mar</td>\n",
       "      <td>C</td>\n",
       "      <td>23475</td>\n",
       "      <td>California</td>\n",
       "    </tr>\n",
       "    <tr>\n",
       "      <th>22</th>\n",
       "      <td>May</td>\n",
       "      <td>C</td>\n",
       "      <td>29697</td>\n",
       "      <td>California</td>\n",
       "    </tr>\n",
       "    <tr>\n",
       "      <th>27</th>\n",
       "      <td>Jun</td>\n",
       "      <td>C</td>\n",
       "      <td>30200</td>\n",
       "      <td>California</td>\n",
       "    </tr>\n",
       "    <tr>\n",
       "      <th>17</th>\n",
       "      <td>Apr</td>\n",
       "      <td>C</td>\n",
       "      <td>30279</td>\n",
       "      <td>California</td>\n",
       "    </tr>\n",
       "    <tr>\n",
       "      <th>7</th>\n",
       "      <td>Feb</td>\n",
       "      <td>C</td>\n",
       "      <td>48624</td>\n",
       "      <td>California</td>\n",
       "    </tr>\n",
       "  </tbody>\n",
       "</table>\n",
       "</div>"
      ],
      "text/plain": [
       "   Month Store  Sales       State\n",
       "2    Jan     C  22369  California\n",
       "12   Mar     C  23475  California\n",
       "22   May     C  29697  California\n",
       "27   Jun     C  30200  California\n",
       "17   Apr     C  30279  California\n",
       "7    Feb     C  48624  California"
      ]
     },
     "execution_count": 92,
     "metadata": {},
     "output_type": "execute_result"
    }
   ],
   "source": [
    " data_california.sort_values(by='Sales',ascending=True)"
   ]
  },
  {
   "cell_type": "code",
   "execution_count": 73,
   "id": "f6046f80",
   "metadata": {},
   "outputs": [],
   "source": [
    " data_Taxas=sales_data.loc[(sales_data['State']=='Texas')]"
   ]
  },
  {
   "cell_type": "code",
   "execution_count": 75,
   "id": "8b829a1a",
   "metadata": {},
   "outputs": [
    {
     "data": {
      "text/html": [
       "<div>\n",
       "<style scoped>\n",
       "    .dataframe tbody tr th:only-of-type {\n",
       "        vertical-align: middle;\n",
       "    }\n",
       "\n",
       "    .dataframe tbody tr th {\n",
       "        vertical-align: top;\n",
       "    }\n",
       "\n",
       "    .dataframe thead th {\n",
       "        text-align: right;\n",
       "    }\n",
       "</style>\n",
       "<table border=\"1\" class=\"dataframe\">\n",
       "  <thead>\n",
       "    <tr style=\"text-align: right;\">\n",
       "      <th></th>\n",
       "      <th>Month</th>\n",
       "      <th>Store</th>\n",
       "      <th>Sales</th>\n",
       "      <th>State</th>\n",
       "    </tr>\n",
       "  </thead>\n",
       "  <tbody>\n",
       "    <tr>\n",
       "      <th>11</th>\n",
       "      <td>Mar</td>\n",
       "      <td>B</td>\n",
       "      <td>27215</td>\n",
       "      <td>Texas</td>\n",
       "    </tr>\n",
       "    <tr>\n",
       "      <th>6</th>\n",
       "      <td>Feb</td>\n",
       "      <td>B</td>\n",
       "      <td>31244</td>\n",
       "      <td>Texas</td>\n",
       "    </tr>\n",
       "    <tr>\n",
       "      <th>26</th>\n",
       "      <td>Jun</td>\n",
       "      <td>B</td>\n",
       "      <td>32896</td>\n",
       "      <td>Texas</td>\n",
       "    </tr>\n",
       "    <tr>\n",
       "      <th>1</th>\n",
       "      <td>Jan</td>\n",
       "      <td>B</td>\n",
       "      <td>32985</td>\n",
       "      <td>Texas</td>\n",
       "    </tr>\n",
       "    <tr>\n",
       "      <th>21</th>\n",
       "      <td>May</td>\n",
       "      <td>B</td>\n",
       "      <td>44597</td>\n",
       "      <td>Texas</td>\n",
       "    </tr>\n",
       "    <tr>\n",
       "      <th>16</th>\n",
       "      <td>Apr</td>\n",
       "      <td>B</td>\n",
       "      <td>45919</td>\n",
       "      <td>Texas</td>\n",
       "    </tr>\n",
       "  </tbody>\n",
       "</table>\n",
       "</div>"
      ],
      "text/plain": [
       "   Month Store  Sales  State\n",
       "11   Mar     B  27215  Texas\n",
       "6    Feb     B  31244  Texas\n",
       "26   Jun     B  32896  Texas\n",
       "1    Jan     B  32985  Texas\n",
       "21   May     B  44597  Texas\n",
       "16   Apr     B  45919  Texas"
      ]
     },
     "execution_count": 75,
     "metadata": {},
     "output_type": "execute_result"
    }
   ],
   "source": [
    "data_Taxas.sort_values(by='Sales',ascending=True)"
   ]
  },
  {
   "cell_type": "code",
   "execution_count": 76,
   "id": "cddf0000",
   "metadata": {},
   "outputs": [],
   "source": [
    " data_Montana=sales_data.loc[(sales_data['State']=='Montana')]"
   ]
  },
  {
   "cell_type": "code",
   "execution_count": 82,
   "id": "806c5d73",
   "metadata": {},
   "outputs": [
    {
     "data": {
      "text/html": [
       "<div>\n",
       "<style scoped>\n",
       "    .dataframe tbody tr th:only-of-type {\n",
       "        vertical-align: middle;\n",
       "    }\n",
       "\n",
       "    .dataframe tbody tr th {\n",
       "        vertical-align: top;\n",
       "    }\n",
       "\n",
       "    .dataframe thead th {\n",
       "        text-align: right;\n",
       "    }\n",
       "</style>\n",
       "<table border=\"1\" class=\"dataframe\">\n",
       "  <thead>\n",
       "    <tr style=\"text-align: right;\">\n",
       "      <th></th>\n",
       "      <th>Month</th>\n",
       "      <th>Store</th>\n",
       "      <th>Sales</th>\n",
       "      <th>State</th>\n",
       "    </tr>\n",
       "  </thead>\n",
       "  <tbody>\n",
       "    <tr>\n",
       "      <th>13</th>\n",
       "      <td>Mar</td>\n",
       "      <td>D</td>\n",
       "      <td>21357</td>\n",
       "      <td>Montana</td>\n",
       "    </tr>\n",
       "    <tr>\n",
       "      <th>18</th>\n",
       "      <td>Apr</td>\n",
       "      <td>D</td>\n",
       "      <td>21394</td>\n",
       "      <td>Montana</td>\n",
       "    </tr>\n",
       "    <tr>\n",
       "      <th>23</th>\n",
       "      <td>May</td>\n",
       "      <td>D</td>\n",
       "      <td>28943</td>\n",
       "      <td>Montana</td>\n",
       "    </tr>\n",
       "    <tr>\n",
       "      <th>8</th>\n",
       "      <td>Feb</td>\n",
       "      <td>D</td>\n",
       "      <td>31768</td>\n",
       "      <td>Montana</td>\n",
       "    </tr>\n",
       "    <tr>\n",
       "      <th>28</th>\n",
       "      <td>Jun</td>\n",
       "      <td>D</td>\n",
       "      <td>37098</td>\n",
       "      <td>Montana</td>\n",
       "    </tr>\n",
       "    <tr>\n",
       "      <th>3</th>\n",
       "      <td>Jan</td>\n",
       "      <td>D</td>\n",
       "      <td>45710</td>\n",
       "      <td>Montana</td>\n",
       "    </tr>\n",
       "  </tbody>\n",
       "</table>\n",
       "</div>"
      ],
      "text/plain": [
       "   Month Store  Sales    State\n",
       "13   Mar     D  21357  Montana\n",
       "18   Apr     D  21394  Montana\n",
       "23   May     D  28943  Montana\n",
       "8    Feb     D  31768  Montana\n",
       "28   Jun     D  37098  Montana\n",
       "3    Jan     D  45710  Montana"
      ]
     },
     "execution_count": 82,
     "metadata": {},
     "output_type": "execute_result"
    }
   ],
   "source": [
    "data_Montana.sort_values(by='Sales',ascending=True)"
   ]
  },
  {
   "cell_type": "markdown",
   "id": "dd0010b2",
   "metadata": {},
   "source": [
    "###### task 4\n"
   ]
  },
  {
   "cell_type": "code",
   "execution_count": 100,
   "id": "78e4ca1b",
   "metadata": {},
   "outputs": [
    {
     "name": "stdout",
     "output_type": "stream",
     "text": [
      "total sales in the state of california: 184644\n"
     ]
    }
   ],
   "source": [
    "sum_colif=data_california['Sales'].sum()\n",
    "print( \"total sales in the state of california:\",sum_colif)"
   ]
  },
  {
   "cell_type": "code",
   "execution_count": 99,
   "id": "7bf70f02",
   "metadata": {},
   "outputs": [
    {
     "name": "stdout",
     "output_type": "stream",
     "text": [
      "total sales in the state of Montana: 186270\n"
     ]
    }
   ],
   "source": [
    "Montana_sum=data_Montana['Sales'].sum()\n",
    "print( \"total sales in the state of Montana:\",Montana_sum)"
   ]
  },
  {
   "cell_type": "code",
   "execution_count": 97,
   "id": "6e9ebbd6",
   "metadata": {},
   "outputs": [
    {
     "name": "stdout",
     "output_type": "stream",
     "text": [
      "total sales in the state of taxas: 214856\n"
     ]
    }
   ],
   "source": [
    "taxas_sum=data_Taxas['Sales'].sum()\n",
    "print( \"total sales in the state of taxas:\",taxas_sum)"
   ]
  },
  {
   "cell_type": "markdown",
   "id": "b3892b38",
   "metadata": {},
   "source": [
    "###### task 5"
   ]
  },
  {
   "cell_type": "code",
   "execution_count": 101,
   "id": "48291785",
   "metadata": {},
   "outputs": [
    {
     "data": {
      "text/html": [
       "<div>\n",
       "<style scoped>\n",
       "    .dataframe tbody tr th:only-of-type {\n",
       "        vertical-align: middle;\n",
       "    }\n",
       "\n",
       "    .dataframe tbody tr th {\n",
       "        vertical-align: top;\n",
       "    }\n",
       "\n",
       "    .dataframe thead th {\n",
       "        text-align: right;\n",
       "    }\n",
       "</style>\n",
       "<table border=\"1\" class=\"dataframe\">\n",
       "  <thead>\n",
       "    <tr style=\"text-align: right;\">\n",
       "      <th></th>\n",
       "      <th>Month</th>\n",
       "      <th>Store</th>\n",
       "      <th>Sales</th>\n",
       "      <th>State</th>\n",
       "    </tr>\n",
       "  </thead>\n",
       "  <tbody>\n",
       "    <tr>\n",
       "      <th>2</th>\n",
       "      <td>Jan</td>\n",
       "      <td>C</td>\n",
       "      <td>22369</td>\n",
       "      <td>California</td>\n",
       "    </tr>\n",
       "    <tr>\n",
       "      <th>7</th>\n",
       "      <td>Feb</td>\n",
       "      <td>C</td>\n",
       "      <td>48624</td>\n",
       "      <td>California</td>\n",
       "    </tr>\n",
       "    <tr>\n",
       "      <th>12</th>\n",
       "      <td>Mar</td>\n",
       "      <td>C</td>\n",
       "      <td>23475</td>\n",
       "      <td>California</td>\n",
       "    </tr>\n",
       "    <tr>\n",
       "      <th>17</th>\n",
       "      <td>Apr</td>\n",
       "      <td>C</td>\n",
       "      <td>30279</td>\n",
       "      <td>California</td>\n",
       "    </tr>\n",
       "    <tr>\n",
       "      <th>22</th>\n",
       "      <td>May</td>\n",
       "      <td>C</td>\n",
       "      <td>29697</td>\n",
       "      <td>California</td>\n",
       "    </tr>\n",
       "    <tr>\n",
       "      <th>27</th>\n",
       "      <td>Jun</td>\n",
       "      <td>C</td>\n",
       "      <td>30200</td>\n",
       "      <td>California</td>\n",
       "    </tr>\n",
       "  </tbody>\n",
       "</table>\n",
       "</div>"
      ],
      "text/plain": [
       "   Month Store  Sales       State\n",
       "2    Jan     C  22369  California\n",
       "7    Feb     C  48624  California\n",
       "12   Mar     C  23475  California\n",
       "17   Apr     C  30279  California\n",
       "22   May     C  29697  California\n",
       "27   Jun     C  30200  California"
      ]
     },
     "execution_count": 101,
     "metadata": {},
     "output_type": "execute_result"
    }
   ],
   "source": [
    " data_california=sales_data.loc[(sales_data['State']=='California')]\n",
    "data_california"
   ]
  },
  {
   "cell_type": "code",
   "execution_count": 111,
   "id": "4f6644a1",
   "metadata": {},
   "outputs": [
    {
     "data": {
      "text/plain": [
       "Month           May\n",
       "Store             C\n",
       "Sales         48624\n",
       "State    California\n",
       "dtype: object"
      ]
     },
     "execution_count": 111,
     "metadata": {},
     "output_type": "execute_result"
    }
   ],
   "source": [
    "data_california.max()\n"
   ]
  },
  {
   "cell_type": "code",
   "execution_count": 112,
   "id": "853658e0",
   "metadata": {},
   "outputs": [
    {
     "data": {
      "text/plain": [
       "Month           Apr\n",
       "Store             C\n",
       "Sales         22369\n",
       "State    California\n",
       "dtype: object"
      ]
     },
     "execution_count": 112,
     "metadata": {},
     "output_type": "execute_result"
    }
   ],
   "source": [
    "data_california.min()"
   ]
  },
  {
   "cell_type": "code",
   "execution_count": 113,
   "id": "d0b03024",
   "metadata": {},
   "outputs": [
    {
     "data": {
      "text/plain": [
       "Month        May\n",
       "Store          D\n",
       "Sales      45710\n",
       "State    Montana\n",
       "dtype: object"
      ]
     },
     "execution_count": 113,
     "metadata": {},
     "output_type": "execute_result"
    }
   ],
   "source": [
    "data_Montana.max()"
   ]
  },
  {
   "cell_type": "code",
   "execution_count": 114,
   "id": "d0a8c573",
   "metadata": {},
   "outputs": [
    {
     "data": {
      "text/plain": [
       "Month        Apr\n",
       "Store          D\n",
       "Sales      21357\n",
       "State    Montana\n",
       "dtype: object"
      ]
     },
     "execution_count": 114,
     "metadata": {},
     "output_type": "execute_result"
    }
   ],
   "source": [
    "data_Montana.min()"
   ]
  },
  {
   "cell_type": "code",
   "execution_count": 115,
   "id": "bf3a27e7",
   "metadata": {},
   "outputs": [
    {
     "data": {
      "text/plain": [
       "Month      May\n",
       "Store        B\n",
       "Sales    45919\n",
       "State    Texas\n",
       "dtype: object"
      ]
     },
     "execution_count": 115,
     "metadata": {},
     "output_type": "execute_result"
    }
   ],
   "source": [
    "data_Taxas.max()"
   ]
  },
  {
   "cell_type": "code",
   "execution_count": 116,
   "id": "9497f764",
   "metadata": {},
   "outputs": [
    {
     "data": {
      "text/plain": [
       "Month      Apr\n",
       "Store        B\n",
       "Sales    27215\n",
       "State    Texas\n",
       "dtype: object"
      ]
     },
     "execution_count": 116,
     "metadata": {},
     "output_type": "execute_result"
    }
   ],
   "source": [
    "data_Taxas.min()"
   ]
  },
  {
   "cell_type": "markdown",
   "id": "595c656e",
   "metadata": {},
   "source": [
    "###### task 6"
   ]
  },
  {
   "cell_type": "code",
   "execution_count": 117,
   "id": "08f675c6",
   "metadata": {},
   "outputs": [
    {
     "ename": "NameError",
     "evalue": "name 'df' is not defined",
     "output_type": "error",
     "traceback": [
      "\u001b[1;31m---------------------------------------------------------------------------\u001b[0m",
      "\u001b[1;31mNameError\u001b[0m                                 Traceback (most recent call last)",
      "Cell \u001b[1;32mIn[117], line 1\u001b[0m\n\u001b[1;32m----> 1\u001b[0m department_sum \u001b[38;5;241m=\u001b[39m df\u001b[38;5;241m.\u001b[39mgroupby(\u001b[38;5;124m'\u001b[39m\u001b[38;5;124mDepartment\u001b[39m\u001b[38;5;124m'\u001b[39m)[\u001b[38;5;124m'\u001b[39m\u001b[38;5;124mSalary\u001b[39m\u001b[38;5;124m'\u001b[39m]\u001b[38;5;241m.\u001b[39msum()\u001b[38;5;241m.\u001b[39mreset_index()\n",
      "\u001b[1;31mNameError\u001b[0m: name 'df' is not defined"
     ]
    }
   ],
   "source": [
    "department_sum = df.groupby('Department')['Salary'].sum().reset_index()"
   ]
  },
  {
   "cell_type": "code",
   "execution_count": 123,
   "id": "d5c0bfd6",
   "metadata": {},
   "outputs": [],
   "source": [
    "total_sales=sales_data.groupby('State')['Sales'].sum()"
   ]
  },
  {
   "cell_type": "code",
   "execution_count": 124,
   "id": "9be9b34a",
   "metadata": {},
   "outputs": [
    {
     "data": {
      "text/plain": [
       "State\n",
       "Alaska        174149\n",
       "California    184644\n",
       "Montana       186270\n",
       "New Mexico    161917\n",
       "Texas         214856\n",
       "Name: Sales, dtype: int64"
      ]
     },
     "execution_count": 124,
     "metadata": {},
     "output_type": "execute_result"
    }
   ],
   "source": [
    "total_sales"
   ]
  },
  {
   "cell_type": "code",
   "execution_count": null,
   "id": "8e02df16",
   "metadata": {},
   "outputs": [],
   "source": []
  }
 ],
 "metadata": {
  "kernelspec": {
   "display_name": "Python 3 (ipykernel)",
   "language": "python",
   "name": "python3"
  },
  "language_info": {
   "codemirror_mode": {
    "name": "ipython",
    "version": 3
   },
   "file_extension": ".py",
   "mimetype": "text/x-python",
   "name": "python",
   "nbconvert_exporter": "python",
   "pygments_lexer": "ipython3",
   "version": "3.11.5"
  }
 },
 "nbformat": 4,
 "nbformat_minor": 5
}
